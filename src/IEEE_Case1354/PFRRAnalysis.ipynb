{
 "cells": [
  {
   "cell_type": "code",
   "execution_count": 1,
   "metadata": {},
   "outputs": [],
   "source": [
    "import os\n",
    "import time\n",
    "import random\n",
    "import numpy as np\n",
    "import pandas as pd\n",
    "import matplotlib.pyplot as plt\n",
    "from matplotlib.gridspec import GridSpec\n",
    "import seaborn as sns\n",
    "\n",
    "from torch_geometric.loader import DataLoader\n",
    "from CustomDataset import CustomDataset\n",
    "\n",
    "%config InlineBackend.figure_format = 'png2x'\n",
    "plt.rcParams['font.size'] = 10\n",
    "plt.rcParams['font.family'] = 'Times New Roman'\n",
    "plt.rcParams['mathtext.fontset'] = 'stix'  # 'stix' is similar to Times New Roman\n",
    "# If you want to use LaTeX to render all text (for more consistency)\n",
    "# plt.rcParams['text.usetex'] = True\n",
    "\n",
    "plt.rcParams['axes.linewidth'] = 0.5    # Axis line width\n",
    "plt.rcParams['lines.linewidth'] = 1    # Line width\n",
    "plt.rcParams['xtick.major.width'] = 0.5  # Set x major tick width to 2 points\n",
    "plt.rcParams['ytick.major.width'] = 0.5\n",
    "plt.rcParams['xtick.major.size'] = 6\n",
    "plt.rcParams['ytick.major.size'] = 6\n",
    "plt.rcParams['lines.markersize'] = 4\n",
    "colors = plt.rcParams['axes.prop_cycle'].by_key()['color']"
   ]
  },
  {
   "cell_type": "code",
   "execution_count": 36,
   "metadata": {},
   "outputs": [],
   "source": [
    "# Number of time steps\n",
    "nt = 12\n",
    "\n",
    "# Number of testing data\n",
    "test_size = 200\n",
    "\n",
    "# Number of branches\n",
    "num_branches = 1991\n",
    "\n",
    "# Power flow limit\n",
    "file_path = f'../../data/IEEE_Case1354/branch_params/PF_max_category1.csv'\n",
    "PF_max_category1 = pd.read_csv(file_path, header=None, index_col=None).to_numpy().astype(bool).flatten()\n",
    "file_path = f'../../data/IEEE_Case1354/branch_params/PF_max_category2.csv'\n",
    "PF_max_category2 = pd.read_csv(file_path, header=None, index_col=None).to_numpy().astype(bool).flatten()\n",
    "file_path = f'../../data/IEEE_Case1354/branch_params/PF_max_category3.csv'\n",
    "PF_max_category3 = pd.read_csv(file_path, header=None, index_col=None).to_numpy().astype(bool).flatten()\n",
    "\n",
    "# Set line flow threshold\n",
    "epsilon = 0.85\n",
    "\n",
    "PF_max1 = 500\n",
    "PF_max2 = 1000\n",
    "PF_max3 = 2000\n",
    "\n",
    "PF_threshold = np.zeros((num_branches, nt))\n",
    "PF_threshold[PF_max_category1, :] = epsilon * PF_max1\n",
    "PF_threshold[PF_max_category2, :] = epsilon * PF_max2\n",
    "PF_threshold[PF_max_category3, :] = epsilon * PF_max3"
   ]
  },
  {
   "cell_type": "code",
   "execution_count": 37,
   "metadata": {},
   "outputs": [],
   "source": [
    "# Matrix to store results\n",
    "branch_flow_true = []\n",
    "branch_flow_pred = []\n",
    "\n",
    "over_load_true = []\n",
    "over_load_pred = []\n",
    "\n",
    "# Read PF file\n",
    "for i in range(test_size):\n",
    "    # Ground truth\n",
    "    file_path = f'../../res/IEEE_Case1354/model_evaluation/PF/true_corr/true_corr_{i+1}.csv'\n",
    "    temp = pd.read_csv(file_path, header=None, index_col=None).to_numpy()\n",
    "    branch_flow_true.append(temp.copy())\n",
    "\n",
    "    # Prediction\n",
    "    file_path = f'../../res/IEEE_Case1354/model_evaluation/PF/pred_corr/pred_corr_{i+1}.csv'\n",
    "    temp = pd.read_csv(file_path, header=None, index_col=None).to_numpy()\n",
    "    branch_flow_pred.append(temp.copy())\n",
    "\n",
    "# Convert to numpy array\n",
    "branch_flow_true = np.abs(np.array(branch_flow_true))\n",
    "branch_flow_pred = np.abs(np.array(branch_flow_pred))\n",
    "\n",
    "over_load_true = branch_flow_true >= PF_threshold\n",
    "over_load_pred = branch_flow_pred >= PF_threshold"
   ]
  },
  {
   "cell_type": "code",
   "execution_count": null,
   "metadata": {},
   "outputs": [],
   "source": [
    "# Probability of heavying loading\n",
    "prob_true = over_load_true.mean(axis=0)\n",
    "prob_pred = over_load_pred.mean(axis=0)\n",
    "\n",
    "# Get sorted branch index according to mean probability of ground truth\n",
    "sorted_idx = np.argsort(prob_true.T.mean(axis=0))\n",
    "\n",
    "# Select six important branches\n",
    "num_top_branches = 8\n",
    "top_branch_idx = sorted_idx[-num_top_branches:]\n",
    "\n",
    "# Sort top branch index\n",
    "# top_branch_idx = np.sort(top_branch_idx)\n",
    "\n",
    "top_branch_idx"
   ]
  },
  {
   "cell_type": "markdown",
   "metadata": {},
   "source": [
    "## Failure mode 1 probability: \n",
    "\n",
    "$$\\mathcal{P}^I_o(t) = p\\left( \\Gamma_t \\right)$$"
   ]
  },
  {
   "cell_type": "code",
   "execution_count": null,
   "metadata": {},
   "outputs": [],
   "source": [
    "columns = [f'T={i+1}' for i in range(nt)]\n",
    "pd.DataFrame(prob_true[top_branch_idx], columns=columns)"
   ]
  },
  {
   "cell_type": "code",
   "execution_count": null,
   "metadata": {},
   "outputs": [],
   "source": [
    "pd.DataFrame(prob_pred[top_branch_idx], columns=columns)"
   ]
  },
  {
   "cell_type": "markdown",
   "metadata": {},
   "source": [
    "## Failure mode 2 probability:\n",
    "\n",
    "$$\\mathcal{P}^{I+}_o(t) = p\\left( \\bigcup_{t'=t+1}^{t+\\Delta T} \\Gamma_{t'} \\, \\vert \\, \\Gamma_t \\right)$$"
   ]
  },
  {
   "cell_type": "code",
   "execution_count": null,
   "metadata": {},
   "outputs": [],
   "source": [
    "# Number of time steps\n",
    "T = 12\n",
    "delta_T = 2\n",
    "\n",
    "num_sig_branches = 8\n",
    "\n",
    "cond_prob_true = np.zeros((num_sig_branches, T))\n",
    "cond_prob_pred = np.zeros((num_sig_branches, T))\n",
    "\n",
    "# Calculate conditional probability ground truth\n",
    "for i in range(num_sig_branches):\n",
    "    for j in range(T-delta_T):\n",
    "        idx = over_load_true[:, sorted_idx[-(i+1)], j] == True\n",
    "        num = (over_load_true[idx, sorted_idx[-(i+1)], j+1:j+1+delta_T] == True).sum(axis=1)\n",
    "        cond_prob_true[i, j] = (num >= 1).sum() / idx.sum()\n",
    "\n",
    "# Calculate conditional probability prediction\n",
    "for i in range(num_sig_branches):\n",
    "    for j in range(T-delta_T):\n",
    "        idx = over_load_pred[:, sorted_idx[-(i+1)], j] == True\n",
    "        num = (over_load_pred[idx, sorted_idx[-(i+1)], j+1:j+1+delta_T] == True).sum(axis=1)\n",
    "        cond_prob_pred[i, j] = (num >= 1).sum() / idx.sum()"
   ]
  },
  {
   "cell_type": "code",
   "execution_count": null,
   "metadata": {},
   "outputs": [],
   "source": [
    "pd.DataFrame(cond_prob_true[:, :-delta_T])"
   ]
  },
  {
   "cell_type": "code",
   "execution_count": null,
   "metadata": {},
   "outputs": [],
   "source": [
    "pd.DataFrame(cond_prob_pred[:, :-delta_T])"
   ]
  },
  {
   "cell_type": "markdown",
   "metadata": {},
   "source": [
    "## Faliure mode 3 probability\n",
    "\n",
    "$$\\mathcal{P}^{II}_o(t) = \\left[ p\\left( \\Gamma_t^j \\, \\vert \\, \\Gamma_t^i \\right) \\right]_{i, j}$$"
   ]
  },
  {
   "cell_type": "code",
   "execution_count": 78,
   "metadata": {},
   "outputs": [],
   "source": [
    "# List to store results\n",
    "mode3_prob_true = np.zeros((nt, num_sig_branches, num_sig_branches))\n",
    "mode3_prob_pred = np.zeros((nt, num_sig_branches, num_sig_branches))\n",
    "\n",
    "# Calculate conditional probability ground truth\n",
    "for i in range(nt):\n",
    "    for j in range(num_sig_branches):\n",
    "        for k in range(num_sig_branches):\n",
    "            idx = over_load_true[:, sorted_idx[-(j+1)], i] == True  \n",
    "            mode3_prob_true[i, j, k] = (over_load_true[idx, sorted_idx[-(k+1)], i] == True).sum() / idx.sum()\n",
    "\n",
    "# Calculate conditional probability prediction\n",
    "for i in range(nt):\n",
    "    for j in range(num_sig_branches):\n",
    "        for k in range(num_sig_branches):\n",
    "            idx = over_load_pred[:, sorted_idx[-(j+1)], i] == True  \n",
    "            mode3_prob_pred[i, j, k] = (over_load_pred[idx, sorted_idx[-(k+1)], i] == True).sum() / idx.sum()"
   ]
  },
  {
   "cell_type": "markdown",
   "metadata": {},
   "source": [
    "## Failure mode 4 probability\n",
    "\n",
    "$$\\mathcal{P}^{II+}_o(t) = \\left[ p\\left(\\bigcup_{t'=t+1}^{t+\\Delta T} \\Gamma_{t'}^j \\, \\vert \\, \\Gamma_t^i \\right) \\right]_{i, j}$$"
   ]
  },
  {
   "cell_type": "markdown",
   "metadata": {},
   "source": [
    "## Risk analysis"
   ]
  },
  {
   "cell_type": "markdown",
   "metadata": {},
   "source": [
    "#### Failure model 1"
   ]
  },
  {
   "cell_type": "code",
   "execution_count": 41,
   "metadata": {},
   "outputs": [],
   "source": [
    "# Define cost function\n",
    "Co = 1 # Cost of overloading, $5/MW\n",
    "\n",
    "# Calculate the amount of overloading \n",
    "branch_overflow_true = np.abs(branch_flow_true - PF_threshold)\n",
    "branch_overflow_pred = np.abs(branch_flow_pred - PF_threshold)\n",
    "\n",
    "## Risk associated with overloading at time t\n",
    "cost_true = branch_overflow_true * Co\n",
    "cost_pred = branch_overflow_pred * Co\n",
    "risk_true = cost_true.mean(axis=0).sum(axis=0)\n",
    "risk_pred = cost_pred.mean(axis=0).sum(axis=0)"
   ]
  },
  {
   "cell_type": "markdown",
   "metadata": {},
   "source": [
    "#### Failure mode 2"
   ]
  },
  {
   "cell_type": "code",
   "execution_count": 42,
   "metadata": {},
   "outputs": [],
   "source": [
    "cond_risk_true = np.zeros((num_branches, T))\n",
    "cond_risk_pred = np.zeros((num_branches, T))\n",
    "\n",
    "# Calculate conditional probability ground truth\n",
    "for i in range(num_branches):\n",
    "    for j in range(T-delta_T):\n",
    "        idx = over_load_true[:, sorted_idx[-(i+1)], j] == True\n",
    "        cond_cost_true = branch_overflow_true[:, sorted_idx[-(i+1)], j+1:j+1+delta_T] * Co\n",
    "        cond_risk_true[i, j] = cond_cost_true.mean(axis=0).sum()\n",
    "cond_risk_true = cond_risk_true.sum(axis=0)\n",
    "\n",
    "# Calculate conditional probability prediction\n",
    "for i in range(num_branches):\n",
    "    for j in range(T-delta_T):\n",
    "        idx = over_load_true[:, sorted_idx[-(i+1)], j] == True\n",
    "        cond_cost_pred = branch_overflow_pred[:, sorted_idx[-(i+1)], j+1:j+1+delta_T] * Co\n",
    "        cond_risk_pred[i, j] = cond_cost_pred.mean(axis=0).sum()\n",
    "cond_risk_pred = cond_risk_pred.sum(axis=0)"
   ]
  },
  {
   "cell_type": "markdown",
   "metadata": {},
   "source": [
    "#### Overall risk"
   ]
  },
  {
   "cell_type": "code",
   "execution_count": 43,
   "metadata": {},
   "outputs": [],
   "source": [
    "overall_risk_true = risk_true + cond_risk_true\n",
    "overall_risk_pred = risk_pred + cond_risk_pred"
   ]
  },
  {
   "cell_type": "code",
   "execution_count": null,
   "metadata": {},
   "outputs": [],
   "source": [
    "# Plot overall risk\n",
    "x = np.arange(1, 11)\n",
    "\n",
    "fig = plt.figure(figsize=(3, 1.75))\n",
    "ax = fig.add_subplot(111)\n",
    "ax.plot(x, overall_risk_true[:-delta_T]/1e6, color='red', marker='^', label='MILP')\n",
    "ax.plot(x, overall_risk_pred[:-delta_T]/1e6, color='blue', marker='^', label='GNN')\n",
    "ax.set_xlabel('Time step $t$ (h)')\n",
    "ax.set_xlim((0, 13))\n",
    "ax.set_xticks([2, 4, 6, 8, 10, 12])\n",
    "ax.set_ylim((0, 3))\n",
    "ax.set_ylabel('$\\Re_o(t)$ ($\\$10^6$)')\n",
    "ax.legend(ncols=2, frameon=False)\n",
    "\n",
    "plt.tight_layout()\n",
    "plt.show()\n",
    "plt.close('all')\n"
   ]
  }
 ],
 "metadata": {
  "kernelspec": {
   "display_name": "PyG-gpu",
   "language": "python",
   "name": "python3"
  },
  "language_info": {
   "codemirror_mode": {
    "name": "ipython",
    "version": 3
   },
   "file_extension": ".py",
   "mimetype": "text/x-python",
   "name": "python",
   "nbconvert_exporter": "python",
   "pygments_lexer": "ipython3",
   "version": "3.11.5"
  }
 },
 "nbformat": 4,
 "nbformat_minor": 2
}
