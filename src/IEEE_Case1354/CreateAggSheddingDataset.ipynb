{
 "cells": [
  {
   "cell_type": "code",
   "execution_count": 1,
   "metadata": {},
   "outputs": [],
   "source": [
    "import os\n",
    "import shutil\n",
    "import random\n",
    "import numpy as np\n",
    "import pandas as pd\n",
    "\n",
    "import torch\n",
    "from torch_geometric.data import Data"
   ]
  },
  {
   "cell_type": "markdown",
   "metadata": {},
   "source": [
    "#### Read Power grid info"
   ]
  },
  {
   "cell_type": "code",
   "execution_count": 2,
   "metadata": {},
   "outputs": [],
   "source": [
    "# Create buses\n",
    "num_buses = 1354\n",
    "buses = np.arange(1, num_buses+1)\n",
    "\n",
    "# Read gen buses\n",
    "file_path = '../../data/IEEE_Case1354/zones/gen_bus.csv'\n",
    "gen_buses = pd.read_csv(file_path, header=None, index_col=None)\n",
    "\n",
    "# Read thermal buses\n",
    "file_path = '../../data/IEEE_Case1354/zones/thermal_bus.csv'\n",
    "thermal_buses = pd.read_csv(file_path, header=None, index_col=None)\n",
    "\n",
    "# Read wind gen buses\n",
    "file_path = '../../data/IEEE_Case1354/zones/wind_bus.csv'\n",
    "wind_buses = pd.read_csv(file_path, header=None, index_col=None)\n",
    "\n",
    "# Read load buses\n",
    "file_path = '../../data/IEEE_Case1354/zones/load_bus.csv'\n",
    "load_buses = pd.read_csv(file_path, header=None, index_col=None)"
   ]
  },
  {
   "cell_type": "code",
   "execution_count": 3,
   "metadata": {},
   "outputs": [],
   "source": [
    "# Boolean index of thermal buses\n",
    "thermal_bidx = np.isin(buses, thermal_buses)\n",
    "\n",
    "# Boolean index of wind buses\n",
    "wind_bidx = np.isin(buses, wind_buses)\n",
    "\n",
    "# Boolean index of load buses\n",
    "load_bidx = np.isin(buses, load_buses)"
   ]
  },
  {
   "cell_type": "code",
   "execution_count": 4,
   "metadata": {},
   "outputs": [],
   "source": [
    "num_zones = 8\n",
    "\n",
    "# Dynamic variable name\n",
    "for i in range(1, num_zones+1):\n",
    "    file_path = f'../../data/IEEE_Case1354/zones/zone{i}_thermal_buses.csv'\n",
    "    locals()[f'zone{i}_thermal_buses'] = pd.read_csv(file_path, header=None, index_col=None)\n",
    "\n",
    "    file_path = f'../../data/IEEE_Case1354/zones/zone{i}_load_bus.csv'\n",
    "    locals()[f'zone{i}_load_buses'] = pd.read_csv(file_path, header=None, index_col=None)"
   ]
  },
  {
   "cell_type": "code",
   "execution_count": 5,
   "metadata": {},
   "outputs": [],
   "source": [
    "for i in range(1, num_zones+1):\n",
    "    locals()[f'zone{i}_thermal_bidx'] = np.isin(buses, locals()[f'zone{i}_thermal_buses'])\n",
    "    locals()[f'zone{i}_load_bidx'] = np.isin(buses, locals()[f'zone{i}_load_buses'])"
   ]
  },
  {
   "cell_type": "markdown",
   "metadata": {},
   "source": [
    "#### Create node features"
   ]
  },
  {
   "cell_type": "code",
   "execution_count": null,
   "metadata": {},
   "outputs": [],
   "source": [
    "nt = 12     # Time steps\n",
    "\n",
    "num_samples = 1000  # Number of SCUC samples\n",
    "max_num = 1528  # Max number\n",
    "\n",
    "# Empty list to store data\n",
    "x = []\n",
    "\n",
    "# Assign wind and load features\n",
    "node_features = np.zeros((num_buses, 2*nt))\n",
    "\n",
    "for i in range(max_num):\n",
    "    # File path\n",
    "    wind_path = f'../../data/IEEE_Case1354/inputs/wind/sample_{i+1}.csv'\n",
    "    load_path = f'../../data/IEEE_Case1354/inputs/load/sample_{i+1}.csv'\n",
    "\n",
    "    # Read wind and load\n",
    "    try:\n",
    "        wind = pd.read_csv(wind_path, header=None, index_col=None)\n",
    "        load = pd.read_csv(load_path, header=None, index_col=None)\n",
    "    except FileNotFoundError:\n",
    "        print(f'The file sample_{i+1} is not found')\n",
    "        continue\n",
    "\n",
    "    # Assign node features\n",
    "    node_features[wind_bidx, :nt] = wind.values\n",
    "    node_features[load_bidx, -nt:] = load.values\n",
    "\n",
    "    x.append(node_features.copy())"
   ]
  },
  {
   "cell_type": "markdown",
   "metadata": {},
   "source": [
    "#### Create target features"
   ]
  },
  {
   "cell_type": "code",
   "execution_count": null,
   "metadata": {},
   "outputs": [],
   "source": [
    "# List to store target features\n",
    "y = []\n",
    "\n",
    "# Target features\n",
    "agg_shedding = np.zeros((num_zones+1, nt))\n",
    "\n",
    "temp = np.zeros((num_buses, nt))\n",
    "temp2 = np.zeros((num_buses, nt))\n",
    "\n",
    "for i in range(max_num):\n",
    "    load_input_path = f'../../data/IEEE_Case1354/inputs/load/sample_{i+1}.csv'\n",
    "    DL_path = f'../../data/IEEE_Case1354/outputs/deployed_load/sample_{i+1}.csv'\n",
    "    try:\n",
    "        load_input = pd.read_csv(load_input_path, header=None, index_col=None)\n",
    "        DL = pd.read_csv(DL_path, header=None, index_col=None)\n",
    "    except FileNotFoundError:\n",
    "        print(f'The file sample_{i+1} is not found')\n",
    "        continue\n",
    "\n",
    "    temp[load_bidx] = load_input.values\n",
    "    temp2[load_bidx] = DL.values\n",
    "\n",
    "    agg_shedding[0, :] = temp.sum(axis=0) - temp2.sum(axis=0)\n",
    "    for j in range(1, num_zones+1):\n",
    "        agg_shedding[j, :] = temp[locals()[f'zone{j}_load_bidx']].sum(axis=0) - temp2[locals()[f'zone{j}_load_bidx']].sum(axis=0)\n",
    "\n",
    "    y.append(agg_shedding.copy())"
   ]
  },
  {
   "cell_type": "markdown",
   "metadata": {},
   "source": [
    "#### Create edge index and attributes"
   ]
  },
  {
   "cell_type": "code",
   "execution_count": 27,
   "metadata": {},
   "outputs": [],
   "source": [
    "# Read branch info\n",
    "file_path = '../../data/IEEE_Case1354/branch_params/branch_params.csv'\n",
    "branch = pd.read_csv(file_path, header=None, index_col=None).to_numpy()\n",
    "\n",
    "# Get branch index and attr\n",
    "edge_index = branch[:, :2] - 1\n",
    "edge_attr = branch[:, 2:]\n",
    "\n",
    "# Convert to standard format\n",
    "edge_index = torch.tensor(edge_index.T, dtype=torch.long)\n",
    "edge_attr = torch.from_numpy(edge_attr).float()"
   ]
  },
  {
   "cell_type": "markdown",
   "metadata": {},
   "source": [
    "#### Create train, test and validation dataset"
   ]
  },
  {
   "cell_type": "code",
   "execution_count": 28,
   "metadata": {},
   "outputs": [],
   "source": [
    "data_list = []\n",
    "\n",
    "for i in range(len(x)):\n",
    "    X = torch.from_numpy(x[i]).float()\n",
    "    Y = torch.from_numpy(y[i]).float()\n",
    "    graph = Data(x=X, y=Y, edge_index=edge_index, edge_attr=edge_attr)\n",
    "    data_list.append(graph)"
   ]
  },
  {
   "cell_type": "code",
   "execution_count": null,
   "metadata": {},
   "outputs": [],
   "source": [
    "dir = f'../../train_val_test_dataset/IEEE_Case1354/agg_Shedding/processed'\n",
    "if not os.path.exists(dir):\n",
    "    print(f'There is no dataset found!')\n",
    "else:\n",
    "    shutil.rmtree(dir)\n",
    "    print(f'The old dataset has been deleted!')\n",
    "\n",
    "from CustomDataset import CustomDataset\n",
    "# Not that if there is already saved dataset, this cell won't work\n",
    "# Save train, val and test data\n",
    "root = '../../train_val_test_dataset/IEEE_Case1354/agg_Shedding/'\n",
    "CustomDataset(root=root, data_list=data_list)"
   ]
  }
 ],
 "metadata": {
  "kernelspec": {
   "display_name": "PyG-cpu",
   "language": "python",
   "name": "python3"
  },
  "language_info": {
   "codemirror_mode": {
    "name": "ipython",
    "version": 3
   },
   "file_extension": ".py",
   "mimetype": "text/x-python",
   "name": "python",
   "nbconvert_exporter": "python",
   "pygments_lexer": "ipython3",
   "version": "3.11.5"
  },
  "orig_nbformat": 4
 },
 "nbformat": 4,
 "nbformat_minor": 2
}
