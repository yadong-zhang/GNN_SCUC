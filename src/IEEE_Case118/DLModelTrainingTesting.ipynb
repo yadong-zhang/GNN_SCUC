{
 "cells": [
  {
   "cell_type": "code",
   "execution_count": 1,
   "metadata": {},
   "outputs": [],
   "source": [
    "import os\n",
    "import time\n",
    "import random\n",
    "import numpy as np\n",
    "import pandas as pd\n",
    "import matplotlib.pyplot as plt\n",
    "\n",
    "import torch\n",
    "import torch.nn as nn\n",
    "import torch.nn.functional as F\n",
    "from torch_geometric.loader import DataLoader"
   ]
  },
  {
   "cell_type": "code",
   "execution_count": 2,
   "metadata": {},
   "outputs": [],
   "source": [
    "random.seed = 20"
   ]
  },
  {
   "cell_type": "code",
   "execution_count": 3,
   "metadata": {},
   "outputs": [],
   "source": [
    "# Get load Boolean index\n",
    "file_path = f'../../data/IEEE_Case118/zones/load_bus.csv'\n",
    "load_buses = pd.read_csv(file_path, index_col=None, header=None)\n",
    "\n",
    "load_bidx = np.isin(np.arange(1, 119), load_buses)"
   ]
  },
  {
   "cell_type": "markdown",
   "metadata": {},
   "source": [
    "## Load model"
   ]
  },
  {
   "cell_type": "code",
   "execution_count": 7,
   "metadata": {},
   "outputs": [],
   "source": [
    "# Root\n",
    "from GNNLoadRegressor import DLANN, DLSAGE, DLGCN\n",
    "from MyDataset import MyDataset"
   ]
  },
  {
   "cell_type": "markdown",
   "metadata": {},
   "source": [
    "## Set parameters"
   ]
  },
  {
   "cell_type": "code",
   "execution_count": 8,
   "metadata": {},
   "outputs": [],
   "source": [
    "# Set hyper-parameters\n",
    "input_dim = 32\n",
    "hidden_dim = 24\n",
    "output_dim = 12\n",
    "\n",
    "# Set device\n",
    "device = 'gpu' if torch.cuda.is_available() else 'cpu'"
   ]
  },
  {
   "cell_type": "markdown",
   "metadata": {},
   "source": [
    "## ANN"
   ]
  },
  {
   "cell_type": "code",
   "execution_count": 9,
   "metadata": {},
   "outputs": [
    {
     "data": {
      "text/plain": [
       "DLANN(\n",
       "  (ann): Sequential(\n",
       "    (0): Linear(in_features=32, out_features=24, bias=True)\n",
       "    (1): ReLU()\n",
       "    (2): Linear(in_features=24, out_features=24, bias=True)\n",
       "    (3): ReLU()\n",
       "    (4): Linear(in_features=24, out_features=12, bias=True)\n",
       "  )\n",
       ")"
      ]
     },
     "execution_count": 9,
     "metadata": {},
     "output_type": "execute_result"
    }
   ],
   "source": [
    "root = '../../train_val_test_dataset/IEEE_Case118/DL-ANN'\n",
    "\n",
    "# Load all data with empty input\n",
    "dataset = MyDataset(root=root, data_list=[])\n",
    "\n",
    "# Get train dataset\n",
    "train_size = 700\n",
    "\n",
    "train_dataset = dataset[:train_size]\n",
    "\n",
    "# Create train loader\n",
    "train_loader = DataLoader(train_dataset, batch_size=1, shuffle=True)\n",
    "\n",
    "# Initialize the model\n",
    "model = DLANN(input_dim, hidden_dim, output_dim)\n",
    "model.to(device)"
   ]
  },
  {
   "cell_type": "markdown",
   "metadata": {},
   "source": [
    "#### ANN model training"
   ]
  },
  {
   "cell_type": "code",
   "execution_count": 11,
   "metadata": {},
   "outputs": [
    {
     "data": {
      "image/png": "[encoded data removed]",
      "text/plain": [
       "<Figure size 500x300 with 1 Axes>"
      ]
     },
     "metadata": {},
     "output_type": "display_data"
    }
   ],
   "source": [
    "# Set number of epochs\n",
    "epochs = 500\n",
    "\n",
    "# Set optimizer\n",
    "optimizer = torch.optim.Adam(model.parameters(), lr=0.001, weight_decay=1e-4)\n",
    "\n",
    "# Set model to training mode\n",
    "model.train()\n",
    "\n",
    "# Model training and validation\n",
    "epoch_loss = []\n",
    "start_time = time.time()\n",
    "for epoch in range(epochs):\n",
    "    batch_loss = []\n",
    "    for loader in train_loader:\n",
    "        loader.to(device)\n",
    "\n",
    "        optimizer.zero_grad()\n",
    "\n",
    "        y_pred = model(loader.x, loader.edge_index, load_bidx)\n",
    "\n",
    "        loss = F.mse_loss(y_pred, loader.y[load_bidx])\n",
    "\n",
    "        loss.backward()\n",
    "        optimizer.step()\n",
    "        batch_loss.append(loss.item())\n",
    "    epoch_loss.append(np.mean(batch_loss))\n",
    "\n",
    "end_time = time.time()\n",
    "training_time = (end_time - start_time)/60\n",
    "\n",
    "plt.figure(figsize=(5, 3))\n",
    "plt.plot(epoch_loss)\n",
    "plt.yscale('log')\n",
    "plt.xlabel('Epoch')\n",
    "plt.ylabel('MSE loss')\n",
    "plt.title(f'Training time: {training_time:.2f}')\n",
    "plt.show()\n",
    "plt.close('all')"
   ]
  },
  {
   "cell_type": "markdown",
   "metadata": {},
   "source": [
    "#### Save ANN model"
   ]
  },
  {
   "cell_type": "code",
   "execution_count": 12,
   "metadata": {},
   "outputs": [],
   "source": [
    "torch.save(model, './trained_model/DLANN_model.pt')"
   ]
  },
  {
   "cell_type": "markdown",
   "metadata": {},
   "source": [
    "#### ANN model testing"
   ]
  },
  {
   "cell_type": "code",
   "execution_count": 13,
   "metadata": {},
   "outputs": [],
   "source": [
    "# Get train dataset\n",
    "test_size = 200\n",
    "test_dataset = dataset[-test_size:]\n",
    "# Create train loader\n",
    "############ Shuffle cannot be true for testing data ##############\n",
    "test_loader = DataLoader(test_dataset, batch_size=1, shuffle=False)\n",
    "\n",
    "model.eval()\n",
    "with torch.no_grad():\n",
    "    for i, loader in enumerate(test_loader):\n",
    "        # Get ground true\n",
    "        ground_true = loader.y.detach().numpy()[load_bidx]\n",
    "        # Save ground true\n",
    "        file_path = f'./model_evaluation/ANN/DL_true/true_{i+1}.csv'\n",
    "        pd.DataFrame(ground_true).to_csv(file_path, columns=None, index=None, header=None)\n",
    "\n",
    "        # Get prediction\n",
    "        pred = model(loader.x, loader.edge_index, load_bidx)\n",
    "        pred = pred.detach().numpy()\n",
    "\n",
    "        # Save prediction\n",
    "        file_path = f'./model_evaluation/ANN/DL_pred/pred_{i+1}.csv'\n",
    "        pd.DataFrame(pred).to_csv(file_path, columns=None, index=None, header=None)"
   ]
  },
  {
   "cell_type": "markdown",
   "metadata": {},
   "source": [
    "## SAGE"
   ]
  },
  {
   "cell_type": "code",
   "execution_count": 14,
   "metadata": {},
   "outputs": [
    {
     "data": {
      "text/plain": [
       "DLSAGE(\n",
       "  (gnn): Sequential(\n",
       "    (0): SAGEConv(32, 24, aggr=mean)\n",
       "    (1): ReLU()\n",
       "    (2): SAGEConv(24, 24, aggr=mean)\n",
       "    (3): ReLU()\n",
       "    (4): SAGEConv(24, 12, aggr=mean)\n",
       "  )\n",
       ")"
      ]
     },
     "execution_count": 14,
     "metadata": {},
     "output_type": "execute_result"
    }
   ],
   "source": [
    "root = '../../train_val_test_dataset/IEEE_Case118/DL-SAGE'\n",
    "\n",
    "# Load all data with empty input\n",
    "dataset = MyDataset(root=root, data_list=[])\n",
    "\n",
    "# Get train dataset\n",
    "train_size = 700\n",
    "\n",
    "train_dataset = dataset[:train_size]\n",
    "\n",
    "# Create train loader\n",
    "train_loader = DataLoader(train_dataset, batch_size=1, shuffle=True)\n",
    "\n",
    "# Initialize the model\n",
    "model = DLSAGE(input_dim, hidden_dim, output_dim)\n",
    "model.to(device)"
   ]
  },
  {
   "cell_type": "markdown",
   "metadata": {},
   "source": [
    "#### SAGE model training"
   ]
  },
  {
   "cell_type": "code",
   "execution_count": 15,
   "metadata": {},
   "outputs": [
    {
     "data": {
      "image/png": "[encoded data removed]",
      "text/plain": [
       "<Figure size 500x300 with 1 Axes>"
      ]
     },
     "metadata": {},
     "output_type": "display_data"
    }
   ],
   "source": [
    "# Set number of epochs\n",
    "epochs = 500\n",
    "\n",
    "# Set optimizer\n",
    "optimizer = torch.optim.Adam(model.parameters(), lr=0.001, weight_decay=1e-4)\n",
    "\n",
    "# Set model to training mode\n",
    "model.train()\n",
    "\n",
    "# Model training and validation\n",
    "epoch_loss = []\n",
    "start_time = time.time()\n",
    "for epoch in range(epochs):\n",
    "    batch_loss = []\n",
    "    for loader in train_loader:\n",
    "        loader.to(device)\n",
    "\n",
    "        optimizer.zero_grad()\n",
    "\n",
    "        y_pred = model(loader.x, loader.edge_index, load_bidx)\n",
    "\n",
    "        loss = F.mse_loss(y_pred, loader.y[load_bidx])\n",
    "\n",
    "        loss.backward()\n",
    "        optimizer.step()\n",
    "        batch_loss.append(loss.item())\n",
    "    epoch_loss.append(np.mean(batch_loss))\n",
    "\n",
    "end_time = time.time()\n",
    "training_time = (end_time - start_time)/60\n",
    "\n",
    "plt.figure(figsize=(5, 3))\n",
    "plt.plot(epoch_loss)\n",
    "plt.yscale('log')\n",
    "plt.xlabel('Epoch')\n",
    "plt.ylabel('MSE loss')\n",
    "plt.title(f'Training time: {training_time:.2f}')\n",
    "plt.show()\n",
    "plt.close('all')"
   ]
  },
  {
   "cell_type": "markdown",
   "metadata": {},
   "source": [
    "#### Save SAGE model"
   ]
  },
  {
   "cell_type": "code",
   "execution_count": 16,
   "metadata": {},
   "outputs": [],
   "source": [
    "torch.save(model, './trained_model/DLSAGE_model.pt')"
   ]
  },
  {
   "cell_type": "markdown",
   "metadata": {},
   "source": [
    "#### SAGE model testing"
   ]
  },
  {
   "cell_type": "code",
   "execution_count": 17,
   "metadata": {},
   "outputs": [],
   "source": [
    "# Get train dataset\n",
    "test_size = 200\n",
    "test_dataset = dataset[-test_size:]\n",
    "# Create train loader\n",
    "############ Shuffle cannot be true for testing data ##############\n",
    "test_loader = DataLoader(test_dataset, batch_size=1, shuffle=False)\n",
    "\n",
    "model.eval()\n",
    "with torch.no_grad():\n",
    "    for i, loader in enumerate(test_loader):\n",
    "        # Get ground true\n",
    "        ground_true = loader.y.detach().numpy()[load_bidx]\n",
    "        # Save ground true\n",
    "        file_path = f'./model_evaluation/SAGE/DL_true/true_{i+1}.csv'\n",
    "        pd.DataFrame(ground_true).to_csv(file_path, columns=None, index=None, header=None)\n",
    "\n",
    "        # Get prediction\n",
    "        pred = model(loader.x, loader.edge_index, load_bidx)\n",
    "        pred = pred.detach().numpy()\n",
    "\n",
    "        # Save prediction\n",
    "        file_path = f'./model_evaluation/SAGE/DL_pred/pred_{i+1}.csv'\n",
    "        pd.DataFrame(pred).to_csv(file_path, columns=None, index=None, header=None)"
   ]
  },
  {
   "cell_type": "markdown",
   "metadata": {},
   "source": [
    "## GCN"
   ]
  },
  {
   "cell_type": "code",
   "execution_count": 18,
   "metadata": {},
   "outputs": [
    {
     "data": {
      "text/plain": [
       "DLGCN(\n",
       "  (gnn): Sequential(\n",
       "    (0): GCNConv(32, 24)\n",
       "    (1): ReLU()\n",
       "    (2): GCNConv(24, 24)\n",
       "    (3): ReLU()\n",
       "    (4): GCNConv(24, 12)\n",
       "  )\n",
       ")"
      ]
     },
     "execution_count": 18,
     "metadata": {},
     "output_type": "execute_result"
    }
   ],
   "source": [
    "root = '../../train_val_test_dataset/IEEE_Case118/DL-GCN'\n",
    "\n",
    "# Load all data with empty input\n",
    "dataset = MyDataset(root=root, data_list=[])\n",
    "\n",
    "# Get train dataset\n",
    "train_size = 700\n",
    "\n",
    "train_dataset = dataset[:train_size]\n",
    "\n",
    "# Create train loader\n",
    "train_loader = DataLoader(train_dataset, batch_size=1, shuffle=True)\n",
    "\n",
    "# Initialize the model\n",
    "model = DLGCN(input_dim, hidden_dim, output_dim)\n",
    "model.to(device)"
   ]
  },
  {
   "cell_type": "markdown",
   "metadata": {},
   "source": [
    "#### GCN model training"
   ]
  },
  {
   "cell_type": "code",
   "execution_count": 19,
   "metadata": {},
   "outputs": [
    {
     "data": {
      "image/png": "[encoded data removed]",
      "text/plain": [
       "<Figure size 500x300 with 1 Axes>"
      ]
     },
     "metadata": {},
     "output_type": "display_data"
    }
   ],
   "source": [
    "# Set number of epochs\n",
    "epochs = 500\n",
    "\n",
    "# Set optimizer\n",
    "optimizer = torch.optim.Adam(model.parameters(), lr=0.001, weight_decay=1e-4)\n",
    "\n",
    "# Set model to training mode\n",
    "model.train()\n",
    "\n",
    "# Model training and validation\n",
    "epoch_loss = []\n",
    "start_time = time.time()\n",
    "for epoch in range(epochs):\n",
    "    batch_loss = []\n",
    "    for loader in train_loader:\n",
    "        loader.to(device)\n",
    "\n",
    "        optimizer.zero_grad()\n",
    "\n",
    "        y_pred = model(loader.x, loader.edge_index, load_bidx)\n",
    "\n",
    "        loss = F.mse_loss(y_pred, loader.y[load_bidx])\n",
    "\n",
    "        loss.backward()\n",
    "        optimizer.step()\n",
    "        batch_loss.append(loss.item())\n",
    "    epoch_loss.append(np.mean(batch_loss))\n",
    "\n",
    "end_time = time.time()\n",
    "training_time = (end_time - start_time)/60\n",
    "\n",
    "plt.figure(figsize=(5, 3))\n",
    "plt.plot(epoch_loss)\n",
    "plt.yscale('log')\n",
    "plt.xlabel('Epoch')\n",
    "plt.ylabel('MSE loss')\n",
    "plt.title(f'Training time: {training_time:.2f}')\n",
    "plt.show()\n",
    "plt.close('all')"
   ]
  },
  {
   "cell_type": "markdown",
   "metadata": {},
   "source": [
    "#### Save GCN model"
   ]
  },
  {
   "cell_type": "code",
   "execution_count": 20,
   "metadata": {},
   "outputs": [],
   "source": [
    "torch.save(model, './trained_model/DLGAN_model.pt')"
   ]
  },
  {
   "cell_type": "markdown",
   "metadata": {},
   "source": [
    "#### GCN model testing"
   ]
  },
  {
   "cell_type": "code",
   "execution_count": 21,
   "metadata": {},
   "outputs": [],
   "source": [
    "# Get train dataset\n",
    "test_size = 200\n",
    "test_dataset = dataset[-test_size:]\n",
    "# Create train loader\n",
    "############ Shuffle cannot be true for testing data ##############\n",
    "test_loader = DataLoader(test_dataset, batch_size=1, shuffle=False)\n",
    "\n",
    "model.eval()\n",
    "with torch.no_grad():\n",
    "    for i, loader in enumerate(test_loader):\n",
    "        # Get ground true\n",
    "        ground_true = loader.y.detach().numpy()[load_bidx]\n",
    "        # Save ground true\n",
    "        file_path = f'./model_evaluation/GCN/DL_true/true_{i+1}.csv'\n",
    "        pd.DataFrame(ground_true).to_csv(file_path, columns=None, index=None, header=None)\n",
    "\n",
    "        # Get prediction\n",
    "        pred = model(loader.x, loader.edge_index, load_bidx)\n",
    "        pred = pred.detach().numpy()\n",
    "\n",
    "        # Save prediction\n",
    "        file_path = f'./model_evaluation/GCN/DL_pred/pred_{i+1}.csv'\n",
    "        pd.DataFrame(pred).to_csv(file_path, columns=None, index=None, header=None)"
   ]
  }
 ],
 "metadata": {
  "kernelspec": {
   "display_name": "PyG-cpu",
   "language": "python",
   "name": "python3"
  },
  "language_info": {
   "codemirror_mode": {
    "name": "ipython",
    "version": 3
   },
   "file_extension": ".py",
   "mimetype": "text/x-python",
   "name": "python",
   "nbconvert_exporter": "python",
   "pygments_lexer": "ipython3",
   "version": "3.9.6"
  },
  "orig_nbformat": 4
 },
 "nbformat": 4,
 "nbformat_minor": 2
}
