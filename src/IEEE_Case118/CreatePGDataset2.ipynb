{
 "cells": [
  {
   "cell_type": "code",
   "execution_count": 1,
   "metadata": {},
   "outputs": [],
   "source": [
    "import random\n",
    "import numpy as np\n",
    "import pandas as pd\n",
    "\n",
    "import torch\n",
    "from torch_geometric.data import Data"
   ]
  },
  {
   "cell_type": "code",
   "execution_count": 2,
   "metadata": {},
   "outputs": [],
   "source": [
    "random.seed = 10"
   ]
  },
  {
   "cell_type": "markdown",
   "metadata": {},
   "source": [
    "#### Read files"
   ]
  },
  {
   "cell_type": "markdown",
   "metadata": {},
   "source": [
    "###### Power grid info"
   ]
  },
  {
   "cell_type": "code",
   "execution_count": 3,
   "metadata": {},
   "outputs": [],
   "source": [
    "# Create buses\n",
    "num_buses = 118\n",
    "buses = np.arange(1, num_buses+1)\n",
    "\n",
    "# Read gen buses\n",
    "file_path = '../../data/IEEE_Case118/zones/gen_bus.csv'\n",
    "gen_buses = pd.read_csv(file_path, header=None, index_col=None)\n",
    "\n",
    "# Read thermal buses\n",
    "file_path = '../../data/IEEE_Case118/zones/thermal_bus.csv'\n",
    "thermal_buses = pd.read_csv(file_path, header=None, index_col=None)\n",
    "\n",
    "# Read wind gen buses\n",
    "file_path = '../../data/IEEE_Case118/zones/wind_bus.csv'\n",
    "wind_buses = pd.read_csv(file_path, header=None, index_col=None)\n",
    "\n",
    "# Read load buses\n",
    "file_path = '../../data/IEEE_Case118/zones/load_bus.csv'\n",
    "load_buses = pd.read_csv(file_path, header=None, index_col=None)"
   ]
  },
  {
   "cell_type": "markdown",
   "metadata": {},
   "source": [
    "#### Create node features"
   ]
  },
  {
   "cell_type": "markdown",
   "metadata": {},
   "source": [
    "###### Create Boolean idx for thermals, winds, and loads"
   ]
  },
  {
   "cell_type": "code",
   "execution_count": 4,
   "metadata": {},
   "outputs": [],
   "source": [
    "# Boolean index of thermal buses\n",
    "thermal_bidx = np.isin(buses, thermal_buses)\n",
    "\n",
    "# Boolean index of wind buses\n",
    "wind_bidx = np.isin(buses, wind_buses)\n",
    "\n",
    "# Boolean index of load buses\n",
    "load_bidx = np.isin(buses, load_buses)"
   ]
  },
  {
   "cell_type": "markdown",
   "metadata": {},
   "source": [
    "###### Create node features matrix with correct dimension"
   ]
  },
  {
   "cell_type": "code",
   "execution_count": 5,
   "metadata": {},
   "outputs": [],
   "source": [
    "# Get thermal gen features (To be determined)\n",
    "Pmax = pd.read_csv('../../data/IEEE_Case118/gen_params/Pmax.csv',\n",
    "                   header=None,\n",
    "                   index_col=None)\n",
    "Pmin = pd.read_csv('../../data/IEEE_Case118/gen_params/Pmin.csv',\n",
    "                   header=None,\n",
    "                   index_col=None)\n",
    "ramp_30 = pd.read_csv('../../data/IEEE_Case118/gen_params/ramp_30.csv',\n",
    "                      header=None,\n",
    "                      index_col=None)\n",
    "startup_cost = pd.read_csv('../../data/IEEE_Case118/gen_params/startup_cost.csv',\n",
    "                            header=None,\n",
    "                            index_col=None)\n",
    "shutdown_cost = pd.read_csv('../../data/IEEE_Case118/gen_params/shutdown_cost.csv',\n",
    "                            header=None,\n",
    "                            index_col=None)\n",
    "gencost_params = pd.read_csv('../../data/IEEE_Case118/gen_params/gencost_params.csv',\n",
    "                                header=None,\n",
    "                                index_col=None)\n",
    "reserve_qty = pd.read_csv('../../data/IEEE_Case118/gen_params/reserve_qty.csv',\n",
    "                            header=None,\n",
    "                            index_col=None)\n",
    "reserve_cost = pd.read_csv('../../data/IEEE_Case118/gen_params/reserve_cost.csv',\n",
    "                            header=None,\n",
    "                            index_col=None)\n",
    "\n",
    "# Get the Boolean idx of thermals in gens\n",
    "bidx = np.isin(gen_buses, thermal_buses).reshape((-1))\n",
    "\n",
    "temp = np.concatenate([Pmax, Pmin, ramp_30, startup_cost, \n",
    "                  shutdown_cost, gencost_params], axis=1)\n",
    "\n",
    "# Create thermal gens features\n",
    "thermal_gen_features = np.concatenate([temp[bidx], reserve_qty, reserve_cost], axis=1)"
   ]
  },
  {
   "cell_type": "markdown",
   "metadata": {},
   "source": [
    "###### Assign thermal gens features"
   ]
  },
  {
   "cell_type": "code",
   "execution_count": 6,
   "metadata": {},
   "outputs": [
    {
     "name": "stdout",
     "output_type": "stream",
     "text": [
      "The file sample_4363 is not found\n",
      "The file sample_7077 is not found\n"
     ]
    }
   ],
   "source": [
    "# Time steps\n",
    "nt = 12\n",
    "\n",
    "# Read wind and load inputs into MATPOWER\n",
    "num_samples = 10000\n",
    "\n",
    "# Empty list to store data\n",
    "x = []\n",
    "\n",
    "# Get dimension of thermal, wind and load\n",
    "num_thermal_features = thermal_gen_features.shape[1]\n",
    "num_wind_features = nt\n",
    "num_load_features = nt\n",
    "num_UC = nt\n",
    "\n",
    "# Empty node feature matrix\n",
    "node_features = np.zeros((buses.shape[0], \n",
    "                          num_thermal_features+\n",
    "                          num_wind_features+\n",
    "                          num_load_features+\n",
    "                          num_UC))\n",
    "\n",
    "temp1 = num_thermal_features + num_wind_features\n",
    "temp2 = temp1 + num_load_features\n",
    "\n",
    "# Assign thermal features\n",
    "node_features[thermal_bidx, :num_thermal_features] = thermal_gen_features\n",
    "\n",
    "# Assign wind and load features\n",
    "for i in range(num_samples):\n",
    "    # File path\n",
    "    wind_path = f'../../data/IEEE_Case118/inputs/wind/sample_{i+1}.csv'\n",
    "    load_path = f'../../data/IEEE_Case118/inputs/load/sample_{i+1}.csv'\n",
    "\n",
    "    # Read wind and load\n",
    "    try:\n",
    "        wind = pd.read_csv(wind_path, header=None, index_col=None).to_numpy()\n",
    "        load = pd.read_csv(load_path, header=None, index_col=None).to_numpy()\n",
    "    except FileNotFoundError:\n",
    "        print(f'The file sample_{i+1} is not found')\n",
    "        continue\n",
    "\n",
    "    # Assign node features\n",
    "    node_features[wind_bidx, num_thermal_features:temp1] = wind\n",
    "    node_features[load_bidx, temp1:temp2] = load\n",
    "\n",
    "    x.append(node_features.copy())\n",
    "\n",
    "# Assign UC predictions\n",
    "for i in range(len(x)):\n",
    "    # Add UC prediction\n",
    "    UC_path = f'../../src/IEEE_Case118/model_evaluation/UC_pred_all/pred_{i+1}.csv'\n",
    "    UC = pd.read_csv(UC_path, header=None, index_col=None).to_numpy()\n",
    "    x[i][:, -num_UC:] = UC.copy()"
   ]
  },
  {
   "cell_type": "markdown",
   "metadata": {},
   "source": [
    "#### Create PG ground true for training"
   ]
  },
  {
   "cell_type": "code",
   "execution_count": 7,
   "metadata": {},
   "outputs": [
    {
     "name": "stdout",
     "output_type": "stream",
     "text": [
      "The file sample_4363 is not found\n",
      "The file sample_7077 is not found\n"
     ]
    }
   ],
   "source": [
    "# Read MATPOWER UC solution\n",
    "y = []\n",
    "\n",
    "# Add zeros to make the dimension as [num_buses, nt*2]\n",
    "all_PG = np.zeros((num_buses, nt*2))\n",
    "\n",
    "for i in range(num_samples):\n",
    "    thermal_PG_path = f'../../data/IEEE_Case118/outputs/PG/sample_{i+1}.csv'\n",
    "    wind_PG_path = f'../../data/IEEE_Case118/outputs/deployed_wind/sample_{i+1}.csv'\n",
    "    load_PG_path = f'../../data/IEEE_Case118/outputs/deployed_load/sample_{i+1}.csv'\n",
    "    try:\n",
    "        thermal_PG = pd.read_csv(thermal_PG_path, header=None, index_col=None).to_numpy()\n",
    "        wind_PG = pd.read_csv(wind_PG_path, header=None, index_col=None).to_numpy()\n",
    "        load_PG = pd.read_csv(load_PG_path, header=None, index_col=None).to_numpy()\n",
    "    except FileNotFoundError:\n",
    "        print(f'The file sample_{i+1} is not found')\n",
    "        continue\n",
    "\n",
    "    all_PG[thermal_bidx, :nt] = thermal_PG\n",
    "    all_PG[wind_bidx, :nt] = wind_PG\n",
    "    all_PG[load_bidx, -nt:] = load_PG\n",
    "\n",
    "    y.append(all_PG.copy())"
   ]
  },
  {
   "cell_type": "markdown",
   "metadata": {},
   "source": [
    "#### Create edge index and attributes"
   ]
  },
  {
   "cell_type": "code",
   "execution_count": 8,
   "metadata": {},
   "outputs": [],
   "source": [
    "# Read branch info\n",
    "file_path = '../../data/IEEE_Case118/branch_params/branch_params.csv'\n",
    "branch = pd.read_csv(file_path, header=None, index_col=None).to_numpy()\n",
    "\n",
    "# Get branch index and attr\n",
    "edge_index = branch[:, :2] - 1\n",
    "edge_attr = branch[:, 2:]\n",
    "\n",
    "# Convert to standard format\n",
    "edge_index = torch.tensor(edge_index.T, dtype=torch.long)\n",
    "edge_attr = torch.from_numpy(edge_attr).float()"
   ]
  },
  {
   "cell_type": "markdown",
   "metadata": {},
   "source": [
    "#### Create train, test and validation dataset"
   ]
  },
  {
   "cell_type": "code",
   "execution_count": 9,
   "metadata": {},
   "outputs": [],
   "source": [
    "data_list = []\n",
    "\n",
    "for i in range(len(x)):\n",
    "    X = torch.from_numpy(x[i]).float()\n",
    "    Y = torch.from_numpy(y[i]).float()\n",
    "    graph = Data(x=X, y=Y, edge_index=edge_index, edge_attr=edge_attr)\n",
    "    data_list.append(graph)"
   ]
  },
  {
   "cell_type": "code",
   "execution_count": 10,
   "metadata": {},
   "outputs": [
    {
     "name": "stderr",
     "output_type": "stream",
     "text": [
      "Processing...\n",
      "Done!\n"
     ]
    },
    {
     "data": {
      "text/plain": [
       "MyDataset(9998)"
      ]
     },
     "execution_count": 10,
     "metadata": {},
     "output_type": "execute_result"
    }
   ],
   "source": [
    "from MyDataset import MyDataset\n",
    "# Not that if there is already saved dataset, this cell won't work\n",
    "# Save train, val and test data\n",
    "root = '../../train_val_test_dataset/IEEE_Case118/PG2'\n",
    "MyDataset(root=root, data_list=data_list)"
   ]
  }
 ],
 "metadata": {
  "kernelspec": {
   "display_name": "PyG-cpu",
   "language": "python",
   "name": "python3"
  },
  "language_info": {
   "codemirror_mode": {
    "name": "ipython",
    "version": 3
   },
   "file_extension": ".py",
   "mimetype": "text/x-python",
   "name": "python",
   "nbconvert_exporter": "python",
   "pygments_lexer": "ipython3",
   "version": "3.8.13"
  },
  "orig_nbformat": 4
 },
 "nbformat": 4,
 "nbformat_minor": 2
}
