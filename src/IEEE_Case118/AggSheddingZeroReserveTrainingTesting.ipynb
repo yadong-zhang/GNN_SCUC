{
 "cells": [
  {
   "cell_type": "code",
   "execution_count": 1,
   "metadata": {},
   "outputs": [],
   "source": [
    "import os\n",
    "import time\n",
    "import random\n",
    "import numpy as np\n",
    "import pandas as pd\n",
    "import matplotlib.pyplot as plt\n",
    "\n",
    "import torch\n",
    "import torch.nn as nn\n",
    "import torch.nn.functional as F\n",
    "from torch_geometric.loader import DataLoader"
   ]
  },
  {
   "cell_type": "markdown",
   "metadata": {},
   "source": [
    "## Load training dataset"
   ]
  },
  {
   "cell_type": "code",
   "execution_count": 2,
   "metadata": {},
   "outputs": [],
   "source": [
    "# Root\n",
    "from CustomDataset import CustomDataset\n",
    "\n",
    "root = '../../train_val_test_dataset/IEEE_Case118/agg_Shedding_zero_reserve/'\n",
    "\n",
    "# Load all data with empty input\n",
    "dataset = CustomDataset(root=root, data_list=[])\n",
    "\n",
    "# Set train and test size\n",
    "train_size = 931\n",
    "test_size = 200\n",
    "\n",
    "# Set batch size\n",
    "batch_size = 10\n",
    "\n",
    "# Get train dataset\n",
    "train_dataset = dataset[:train_size]\n",
    "# Create train loader\n",
    "train_loader = DataLoader(train_dataset, batch_size=batch_size, shuffle=True)\n",
    "\n",
    "# Set hyper-parameters\n",
    "input_dim = 24\n",
    "hidden_dim = 256\n",
    "output_dim = 12\n",
    "\n",
    "# Set device\n",
    "device = 'cuda:0' if torch.cuda.is_available() else 'cpu'"
   ]
  },
  {
   "cell_type": "markdown",
   "metadata": {},
   "source": [
    "## SAGE"
   ]
  },
  {
   "cell_type": "code",
   "execution_count": 3,
   "metadata": {},
   "outputs": [
    {
     "data": {
      "text/plain": [
       "AggPGSAGE(\n",
       "  (encoder): Sequential(\n",
       "    (0): Linear(in_features=24, out_features=128, bias=True)\n",
       "    (1): ReLU()\n",
       "    (2): Linear(in_features=128, out_features=256, bias=True)\n",
       "    (3): ReLU()\n",
       "  )\n",
       "  (gnn): Sequential(\n",
       "    (0): SAGEConv(256, 256, aggr=mean)\n",
       "    (1): ReLU()\n",
       "    (2): SAGEConv(256, 256, aggr=mean)\n",
       "    (3): ReLU()\n",
       "    (4): SAGEConv(256, 256, aggr=mean)\n",
       "    (5): ReLU()\n",
       "  )\n",
       "  (decoder): Sequential(\n",
       "    (0): Linear(in_features=256, out_features=128, bias=True)\n",
       "    (1): ReLU()\n",
       "    (2): Linear(in_features=128, out_features=48, bias=True)\n",
       "  )\n",
       ")"
      ]
     },
     "execution_count": 3,
     "metadata": {},
     "output_type": "execute_result"
    }
   ],
   "source": [
    "from GNNAggPGRegressor import AggPGSAGE\n",
    "\n",
    "# Initialize the model\n",
    "model = AggPGSAGE(input_dim, hidden_dim, output_dim)\n",
    "model.to(device)"
   ]
  },
  {
   "cell_type": "markdown",
   "metadata": {},
   "source": [
    "#### SAGE model training"
   ]
  },
  {
   "cell_type": "code",
   "execution_count": 4,
   "metadata": {},
   "outputs": [
    {
     "data": {
      "image/png": "[encoded data removed]",
      "text/plain": [
       "<Figure size 500x300 with 1 Axes>"
      ]
     },
     "metadata": {},
     "output_type": "display_data"
    }
   ],
   "source": [
    "epochs = 2\n",
    "\n",
    "# Set optimizer\n",
    "optimizer = torch.optim.Adam(model.parameters(), lr=0.001, weight_decay=1e-4)\n",
    "\n",
    "# Set model to training mode\n",
    "model.train()\n",
    "\n",
    "# Model training and validation\n",
    "epoch_loss = []\n",
    "start_time = time.time()\n",
    "for epoch in range(epochs):\n",
    "    batch_loss = []\n",
    "    for loader in train_loader:\n",
    "        loader.to(device)\n",
    "\n",
    "        optimizer.zero_grad()\n",
    "\n",
    "        y_pred = model(loader.x, loader.edge_index, loader.batch)\n",
    "\n",
    "        loss = F.mse_loss(y_pred, loader.y)\n",
    "\n",
    "        loss.backward()\n",
    "        optimizer.step()\n",
    "        batch_loss.append(loss.item())\n",
    "    epoch_loss.append(np.mean(batch_loss))\n",
    "\n",
    "end_time = time.time()\n",
    "training_time = (end_time - start_time)/60\n",
    "\n",
    "plt.figure(figsize=(5, 3))\n",
    "plt.plot(epoch_loss)\n",
    "plt.yscale('log')\n",
    "plt.xlabel('Epoch')\n",
    "plt.ylabel('MSE loss')\n",
    "plt.title(f'Training time: {training_time:.2f}')\n",
    "plt.show()\n",
    "plt.close('all')"
   ]
  },
  {
   "cell_type": "markdown",
   "metadata": {},
   "source": [
    "#### Save SAGE model"
   ]
  },
  {
   "cell_type": "code",
   "execution_count": 5,
   "metadata": {},
   "outputs": [],
   "source": [
    "torch.save(model, f'../../trained_model/IEEE_Case118/agg_Shedding_zero_reserve_model.pt')"
   ]
  },
  {
   "cell_type": "markdown",
   "metadata": {},
   "source": [
    "#### SAGE model testing"
   ]
  },
  {
   "cell_type": "code",
   "execution_count": 6,
   "metadata": {},
   "outputs": [],
   "source": [
    "unit_length = 4\n",
    "model_path = f'../../trained_model/IEEE_Case118/agg_Shedding_zero_reserve_model.pt'\n",
    "model = torch.load(model_path)\n",
    "model.to('cpu')\n",
    "\n",
    "model.eval()\n",
    "\n",
    "# Complete dataset\n",
    "test_dataset = dataset[-test_size:]\n",
    "############ Shuffle cannot be true for testing data ##############\n",
    "test_loader = DataLoader(test_dataset, batch_size=batch_size, shuffle=False)\n",
    "\n",
    "with torch.no_grad():\n",
    "    for i, loader in enumerate(test_loader):\n",
    "        # Get ground true\n",
    "        ground_true = loader.y.cpu().detach().numpy()\n",
    "        # Save ground true\n",
    "        for j in range(batch_size):\n",
    "            file_path = f'../../res/IEEE_Case118/model_evaluation/agg_Shedding_zero_reserve/true/true_{i*batch_size+j+1}.csv'\n",
    "            pd.DataFrame(ground_true[j*unit_length:(j+1)*unit_length]).to_csv(file_path, columns=None, index=None, header=None)\n",
    "\n",
    "        # Get prediction\n",
    "        pred = model(loader.x, loader.edge_index, loader.batch)\n",
    "        pred = pred.cpu().detach().numpy()\n",
    "\n",
    "        # Save prediction\n",
    "        for j in range(batch_size):\n",
    "            file_path = f'../../res/IEEE_Case118/model_evaluation/agg_Shedding_zero_reserve/pred/pred_{i*batch_size+j+1}.csv'\n",
    "            pd.DataFrame(pred[j*unit_length:(j+1)*unit_length]).to_csv(file_path, columns=None, index=None, header=None)"
   ]
  }
 ],
 "metadata": {
  "kernelspec": {
   "display_name": "PyG-cpu",
   "language": "python",
   "name": "python3"
  },
  "language_info": {
   "codemirror_mode": {
    "name": "ipython",
    "version": 3
   },
   "file_extension": ".py",
   "mimetype": "text/x-python",
   "name": "python",
   "nbconvert_exporter": "python",
   "pygments_lexer": "ipython3",
   "version": "3.9.6"
  },
  "orig_nbformat": 4
 },
 "nbformat": 4,
 "nbformat_minor": 2
}
