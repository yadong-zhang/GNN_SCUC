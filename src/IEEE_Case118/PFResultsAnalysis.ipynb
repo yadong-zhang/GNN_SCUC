{
 "cells": [
  {
   "cell_type": "code",
   "execution_count": null,
   "metadata": {},
   "outputs": [],
   "source": [
    "import os\n",
    "import time\n",
    "import random\n",
    "import numpy as np\n",
    "import pandas as pd\n",
    "import matplotlib.pyplot as plt\n",
    "from matplotlib.gridspec import GridSpec\n",
    "import seaborn as sns\n",
    "\n",
    "from torch_geometric.loader import DataLoader\n",
    "from CustomDataset import CustomDataset\n",
    "\n",
    "%config InlineBackend.figure_format = 'png2x'\n",
    "plt.rcParams['font.size'] = 10\n",
    "plt.rcParams['font.family'] = 'Arial'\n",
    "plt.rcParams['axes.linewidth'] = 0.5    # Axis line width\n",
    "plt.rcParams['lines.linewidth'] = 1    # Line width\n",
    "plt.rcParams['xtick.major.width'] = 0.5  # Set x major tick width to 2 points\n",
    "plt.rcParams['ytick.major.width'] = 0.5\n",
    "plt.rcParams['lines.markersize'] = 4\n",
    "colors = plt.rcParams['axes.prop_cycle'].by_key()['color']"
   ]
  },
  {
   "cell_type": "code",
   "execution_count": null,
   "metadata": {},
   "outputs": [],
   "source": [
    "# Number of time steps\n",
    "nt = 12\n",
    "\n",
    "# Number of testing data\n",
    "num_data = 200\n",
    "\n",
    "# Number of branches\n",
    "num_branches = 186\n",
    "\n",
    "# Power flow limit\n",
    "file_path = f'../../data/IEEE_Case118/branch_params/PF_max_category1.csv'\n",
    "PF_max_category1 = pd.read_csv(file_path, header=None, index_col=None).to_numpy().astype(bool).flatten()\n",
    "file_path = f'../../data/IEEE_Case118/branch_params/PF_max_category2.csv'\n",
    "PF_max_category2 = pd.read_csv(file_path, header=None, index_col=None).to_numpy().astype(bool).flatten()\n",
    "file_path = f'../../data/IEEE_Case118/branch_params/PF_max_category3.csv'\n",
    "PF_max_category3 = pd.read_csv(file_path, header=None, index_col=None).to_numpy().astype(bool).flatten()\n",
    "\n",
    "# Set line flow threshold\n",
    "epsilon = 0.85\n",
    "\n",
    "PF_max1 = 200\n",
    "PF_max2 = 300\n",
    "PF_max3 = 500\n",
    "\n",
    "PF_threshold = np.zeros((num_branches, nt))\n",
    "PF_threshold[PF_max_category1, :] = epsilon * PF_max1\n",
    "PF_threshold[PF_max_category2, :] = epsilon * PF_max2\n",
    "PF_threshold[PF_max_category3, :] = epsilon * PF_max3"
   ]
  },
  {
   "cell_type": "code",
   "execution_count": null,
   "metadata": {},
   "outputs": [],
   "source": [
    "PTDF = pd.read_csv('../../data/IEEE_Case118/PTDF/PTDF_matrix.csv', header=None, index_col=None)"
   ]
  },
  {
   "cell_type": "code",
   "execution_count": null,
   "metadata": {},
   "outputs": [],
   "source": [
    "for i in range(num_data):\n",
    "    PB_true = pd.read_csv(f'../../res/IEEE_Case118/model_evaluation/PB/true_corr/true_corr_{i+1}.csv', header=None, index_col=None)\n",
    "    PF_true = PTDF@PB_true\n",
    "    PF_true.to_csv(f'../../res/IEEE_Case118/model_evaluation/PF/true_corr/true_corr_{i+1}.csv', index=None, header=None)\n",
    "\n",
    "    PB_pred = pd.read_csv(f'../../res/IEEE_Case118/model_evaluation/PB/pred_corr/pred_corr_{i+1}.csv', header=None, index_col=None)\n",
    "    PF_pred = PTDF@PB_pred\n",
    "    PF_pred.to_csv(f'../../res/IEEE_Case118/model_evaluation/PF/pred_corr/pred_corr_{i+1}.csv', index=None, header=None)"
   ]
  }
 ],
 "metadata": {
  "language_info": {
   "name": "python"
  }
 },
 "nbformat": 4,
 "nbformat_minor": 2
}
