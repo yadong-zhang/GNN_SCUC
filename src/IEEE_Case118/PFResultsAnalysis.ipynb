{
 "cells": [
  {
   "cell_type": "code",
   "execution_count": 2,
   "metadata": {},
   "outputs": [],
   "source": [
    "import os\n",
    "import time\n",
    "import random\n",
    "import numpy as np\n",
    "import pandas as pd\n",
    "import matplotlib.pyplot as plt\n",
    "from matplotlib.gridspec import GridSpec\n",
    "import seaborn as sns\n",
    "\n",
    "from torch_geometric.loader import DataLoader\n",
    "from CustomDataset import CustomDataset\n",
    "\n",
    "%config InlineBackend.figure_format = 'png2x'\n",
    "plt.rcParams['font.size'] = 12\n",
    "plt.rcParams['font.family'] = 'Times New Roman'\n",
    "plt.rcParams['mathtext.fontset'] = 'stix'  # 'stix' is similar to Times New Roman\n",
    "# If you want to use LaTeX to render all text (for more consistency)\n",
    "plt.rcParams['text.usetex'] = True\n",
    "\n",
    "plt.rcParams['axes.linewidth'] = 0.5    # Axis line width\n",
    "plt.rcParams['lines.linewidth'] = 1    # Line width\n",
    "plt.rcParams['xtick.major.width'] = 0.5  # Set x major tick width to 2 points\n",
    "plt.rcParams['ytick.major.width'] = 0.5\n",
    "plt.rcParams['xtick.major.size'] = 3\n",
    "plt.rcParams['ytick.major.size'] = 3\n",
    "plt.rcParams['lines.markersize'] = 3\n",
    "colors = plt.rcParams['axes.prop_cycle'].by_key()['color']"
   ]
  },
  {
   "cell_type": "code",
   "execution_count": 3,
   "metadata": {},
   "outputs": [],
   "source": [
    "additional_colors = [\n",
    "    '#191970',  # Midnight Blue\n",
    "    (0.498, 1.0, 0.831),  # Aqua Marine\n",
    "    '#228B22',  # Forest Green\n",
    "    '#FF7F50',  # Coral\n",
    "    (0.855, 0.647, 0.125),  # Golden Rod\n",
    "    '#FF1493',  # Deep Pink\n",
    "    (0.901, 0.901, 0.980),  # Lavender\n",
    "    '#A0522D',  # Sienna\n",
    "    (0.0, 0.501, 0.501),  # Teal\n",
    "    '#DA70D6'   # Orchid\n",
    "]\n",
    "\n",
    "colors += additional_colors"
   ]
  },
  {
   "cell_type": "code",
   "execution_count": 3,
   "metadata": {},
   "outputs": [],
   "source": [
    "# Number of time steps\n",
    "nt = 12\n",
    "\n",
    "# Number of testing data\n",
    "num_data = 200\n",
    "\n",
    "# Number of branches\n",
    "num_branches = 186\n",
    "\n",
    "# Significant branches\n",
    "top_branch_idx = np.array([172,  53, 150,  37])"
   ]
  },
  {
   "cell_type": "code",
   "execution_count": 4,
   "metadata": {},
   "outputs": [],
   "source": [
    "PTDF = pd.read_csv('../../data/IEEE_Case118/PTDF/PTDF_matrix.csv', header=None, index_col=None)"
   ]
  },
  {
   "cell_type": "code",
   "execution_count": 5,
   "metadata": {},
   "outputs": [],
   "source": [
    "for i in range(num_data):\n",
    "    PB_true = pd.read_csv(f'../../res/IEEE_Case118/model_evaluation/PB/true_corr/true_corr_{i+1}.csv', header=None, index_col=None)\n",
    "    PF_true = PTDF@PB_true\n",
    "    PF_true.to_csv(f'../../res/IEEE_Case118/model_evaluation/PF/true_corr/true_corr_{i+1}.csv', index=None, header=None)\n",
    "\n",
    "    PB_pred = pd.read_csv(f'../../res/IEEE_Case118/model_evaluation/PB/pred_corr/pred_corr_{i+1}.csv', header=None, index_col=None)\n",
    "    PF_pred = PTDF@PB_pred\n",
    "    PF_pred.to_csv(f'../../res/IEEE_Case118/model_evaluation/PF/pred_corr/pred_corr_{i+1}.csv', index=None, header=None)"
   ]
  },
  {
   "cell_type": "markdown",
   "metadata": {},
   "source": [
    "## Mean relative error"
   ]
  },
  {
   "cell_type": "code",
   "execution_count": 6,
   "metadata": {},
   "outputs": [],
   "source": [
    "rela_err = np.zeros((num_data, num_branches, nt)) * np.nan\n",
    "\n",
    "for i in range(num_data):\n",
    "    # Read ground truth\n",
    "    PF_true = pd.read_csv(f'../../res/IEEE_Case118/model_evaluation/PF/true_corr/true_corr_{i+1}.csv', header=None, index_col=None).to_numpy()\n",
    "    # Read prediction\n",
    "    PF_pred = pd.read_csv(f'../../res/IEEE_Case118/model_evaluation/PF/pred_corr/pred_corr_{i+1}.csv', header=None, index_col=None).to_numpy()\n",
    "\n",
    "    # Get valid index (Set threshold to 1)\n",
    "    idx = (PF_true != 0) & (PF_true >= 1)\n",
    "\n",
    "    # Calculate relative error\n",
    "    rela_err[i, idx] = np.abs((PF_true[idx] - PF_pred[idx]) / PF_true[idx])"
   ]
  },
  {
   "cell_type": "code",
   "execution_count": null,
   "metadata": {},
   "outputs": [],
   "source": [
    "MRE = np.nanmean(rela_err, axis=0)"
   ]
  },
  {
   "cell_type": "code",
   "execution_count": null,
   "metadata": {},
   "outputs": [],
   "source": [
    "fig = plt.figure(figsize=(3.5, 1.9))\n",
    "\n",
    "ax = fig.add_subplot(111)\n",
    "ax.plot(np.arange(1, 13), MRE[top_branch_idx[0], :], color=colors[0], linewidth=1, marker='^', markersize=2, label='b1')\n",
    "ax.plot(np.arange(1, 13), MRE[top_branch_idx[1], :], color=colors[1], linewidth=1, marker='^', markersize=2, label='b2')\n",
    "ax.plot(np.arange(1, 13), MRE[top_branch_idx[2], :], color=colors[2], linewidth=1, marker='^', markersize=2, label='b3')\n",
    "ax.plot(np.arange(1, 13), MRE[top_branch_idx[3], :], color=colors[3], linewidth=1, marker='^', markersize=2, label='b4')\n",
    "ax.set_xlabel('Time step $t$ (h)')\n",
    "ax.set_ylabel('MRE (\\%)')\n",
    "ax.set_xlim((0.5, 12.5))\n",
    "ax.set_ylim(0, 9)\n",
    "ax.set_xticks(np.arange(2, 13, 2))\n",
    "ax.set_yticks(np.arange(0, 10, 3))\n",
    "ax.spines['top'].set_visible(False)\n",
    "ax.spines['right'].set_visible(False)\n",
    "ax.legend(ncol=2, fontsize=8, frameon=False, loc=\"upper left\")\n",
    "\n",
    "plt.tight_layout()\n",
    "plt.show()\n",
    "# fig.savefig(f'../../submission/118_PF_MRE.png', bbox_inches='tight', dpi=300)\n",
    "plt.close('all')"
   ]
  },
  {
   "cell_type": "code",
   "execution_count": null,
   "metadata": {},
   "outputs": [],
   "source": [
    "labels = [f\"Branch {i}\" for i in range(1, 17)]\n",
    "\n",
    "# Create a figure with an estimated small size\n",
    "fig, ax = plt.subplots(figsize=(1, 1))  # You may need to adjust these values\n",
    "\n",
    "ax.plot([], [], color=\"black\", label=\"SCUC\")\n",
    "ax.plot([], [], color=\"black\", linestyle=\"--\", label=\"GNN\")\n",
    "\n",
    "# Define plot elements for the legend (without plotting data)\n",
    "# ax.plot([], [], marker='', label='System')\n",
    "for i in range(16):\n",
    "    ax.plot([], [], marker='^', markersize=2, color=colors[i], label=labels[i])\n",
    "\n",
    "legend = ax.legend(frameon=False, ncols=8)\n",
    "\n",
    "# Hide the axes\n",
    "ax.axis('off')\n",
    "\n",
    "# Now, adjust the figure size based on the legend\n",
    "fig.canvas.draw()  # Draw the canvas to get the legend size\n",
    "bbox = legend.get_window_extent().transformed(fig.dpi_scale_trans.inverted())\n",
    "fig.set_size_inches(bbox.width, bbox.height)\n",
    "\n",
    "# Optionally, save the figure\n",
    "# plt.savefig('legend_only.png', bbox_inches='tight')\n",
    "\n",
    "# plt.tight_layout()\n",
    "plt.show()"
   ]
  }
 ],
 "metadata": {
  "kernelspec": {
   "display_name": "Python 3",
   "language": "python",
   "name": "python3"
  },
  "language_info": {
   "codemirror_mode": {
    "name": "ipython",
    "version": 3
   },
   "file_extension": ".py",
   "mimetype": "text/x-python",
   "name": "python",
   "nbconvert_exporter": "python",
   "pygments_lexer": "ipython3",
   "version": "3.9.6"
  }
 },
 "nbformat": 4,
 "nbformat_minor": 2
}
