{
 "cells": [
  {
   "cell_type": "code",
   "execution_count": 1,
   "metadata": {},
   "outputs": [],
   "source": [
    "import os\n",
    "import time\n",
    "import random\n",
    "import numpy as np\n",
    "import pandas as pd\n",
    "import matplotlib.pyplot as plt\n",
    "\n",
    "import torch\n",
    "import torch.nn as nn\n",
    "import torch.nn.functional as F\n",
    "from torch_geometric.loader import DataLoader"
   ]
  },
  {
   "cell_type": "code",
   "execution_count": 2,
   "metadata": {},
   "outputs": [],
   "source": [
    "random.seed = 20"
   ]
  },
  {
   "cell_type": "markdown",
   "metadata": {},
   "source": [
    "## Load training dataset"
   ]
  },
  {
   "cell_type": "code",
   "execution_count": 6,
   "metadata": {},
   "outputs": [],
   "source": [
    "# Root\n",
    "from MyDataset import MyDataset\n",
    "\n",
    "root = '../../train_val_test_dataset/IEEE_Case118/UC'\n",
    "\n",
    "# Load all data with empty input\n",
    "dataset = MyDataset(root=root, data_list=[])\n",
    "\n",
    "# Get train dataset\n",
    "train_size = 3000\n",
    "\n",
    "# Set batch size\n",
    "batch_size = 100\n",
    "# Length of indicidual prediction\n",
    "unit_length = 118\n",
    "\n",
    "# Get train dataset\n",
    "train_dataset = dataset[:train_size]\n",
    "# Create train loader\n",
    "train_loader = DataLoader(train_dataset, batch_size=batch_size, shuffle=True)\n",
    "\n",
    "# Set hyper-parameters\n",
    "input_dim = 32\n",
    "hidden_dim = 256\n",
    "output_dim = 12\n",
    "\n",
    "# Set device\n",
    "device = 'cuda:0' if torch.cuda.is_available() else 'cpu'"
   ]
  },
  {
   "cell_type": "markdown",
   "metadata": {},
   "source": [
    "## ANN"
   ]
  },
  {
   "cell_type": "code",
   "execution_count": 7,
   "metadata": {},
   "outputs": [
    {
     "data": {
      "text/plain": [
       "UCANN(\n",
       "  (ann): Sequential(\n",
       "    (0): Linear(in_features=32, out_features=256, bias=True)\n",
       "    (1): ReLU()\n",
       "    (2): Linear(in_features=256, out_features=256, bias=True)\n",
       "    (3): ReLU()\n",
       "    (4): Linear(in_features=256, out_features=256, bias=True)\n",
       "    (5): ReLU()\n",
       "    (6): Linear(in_features=256, out_features=256, bias=True)\n",
       "    (7): ReLU()\n",
       "    (8): Linear(in_features=256, out_features=256, bias=True)\n",
       "    (9): ReLU()\n",
       "    (10): Linear(in_features=256, out_features=256, bias=True)\n",
       "    (11): ReLU()\n",
       "    (12): Linear(in_features=256, out_features=256, bias=True)\n",
       "    (13): ReLU()\n",
       "    (14): Linear(in_features=256, out_features=256, bias=True)\n",
       "    (15): ReLU()\n",
       "    (16): Linear(in_features=256, out_features=256, bias=True)\n",
       "    (17): ReLU()\n",
       "    (18): Linear(in_features=256, out_features=256, bias=True)\n",
       "    (19): ReLU()\n",
       "    (20): Linear(in_features=256, out_features=256, bias=True)\n",
       "    (21): ReLU()\n",
       "    (22): Linear(in_features=256, out_features=256, bias=True)\n",
       "    (23): ReLU()\n",
       "    (24): Linear(in_features=256, out_features=256, bias=True)\n",
       "    (25): ReLU()\n",
       "    (26): Linear(in_features=256, out_features=256, bias=True)\n",
       "    (27): ReLU()\n",
       "    (28): Linear(in_features=256, out_features=256, bias=True)\n",
       "    (29): ReLU()\n",
       "    (30): Linear(in_features=256, out_features=256, bias=True)\n",
       "    (31): ReLU()\n",
       "    (32): Linear(in_features=256, out_features=256, bias=True)\n",
       "    (33): ReLU()\n",
       "    (34): Linear(in_features=256, out_features=256, bias=True)\n",
       "    (35): ReLU()\n",
       "    (36): Linear(in_features=256, out_features=256, bias=True)\n",
       "    (37): ReLU()\n",
       "    (38): Linear(in_features=256, out_features=256, bias=True)\n",
       "    (39): ReLU()\n",
       "    (40): Linear(in_features=256, out_features=256, bias=True)\n",
       "    (41): ReLU()\n",
       "    (42): Linear(in_features=256, out_features=256, bias=True)\n",
       "    (43): ReLU()\n",
       "    (44): Linear(in_features=256, out_features=256, bias=True)\n",
       "    (45): ReLU()\n",
       "    (46): Linear(in_features=256, out_features=256, bias=True)\n",
       "    (47): ReLU()\n",
       "    (48): Linear(in_features=256, out_features=256, bias=True)\n",
       "    (49): ReLU()\n",
       "    (50): Linear(in_features=256, out_features=256, bias=True)\n",
       "    (51): ReLU()\n",
       "    (52): Linear(in_features=256, out_features=256, bias=True)\n",
       "    (53): ReLU()\n",
       "    (54): Linear(in_features=256, out_features=256, bias=True)\n",
       "    (55): ReLU()\n",
       "    (56): Linear(in_features=256, out_features=256, bias=True)\n",
       "    (57): ReLU()\n",
       "    (58): Linear(in_features=256, out_features=256, bias=True)\n",
       "    (59): ReLU()\n",
       "    (60): Linear(in_features=256, out_features=256, bias=True)\n",
       "    (61): ReLU()\n",
       "    (62): Linear(in_features=256, out_features=256, bias=True)\n",
       "    (63): ReLU()\n",
       "    (64): Linear(in_features=256, out_features=256, bias=True)\n",
       "    (65): ReLU()\n",
       "    (66): Linear(in_features=256, out_features=256, bias=True)\n",
       "    (67): ReLU()\n",
       "    (68): Linear(in_features=256, out_features=256, bias=True)\n",
       "    (69): ReLU()\n",
       "    (70): Linear(in_features=256, out_features=256, bias=True)\n",
       "    (71): ReLU()\n",
       "    (72): Linear(in_features=256, out_features=256, bias=True)\n",
       "    (73): ReLU()\n",
       "    (74): Linear(in_features=256, out_features=256, bias=True)\n",
       "    (75): ReLU()\n",
       "    (76): Linear(in_features=256, out_features=256, bias=True)\n",
       "    (77): ReLU()\n",
       "    (78): Linear(in_features=256, out_features=256, bias=True)\n",
       "    (79): ReLU()\n",
       "    (80): Linear(in_features=256, out_features=256, bias=True)\n",
       "    (81): ReLU()\n",
       "    (82): Linear(in_features=256, out_features=256, bias=True)\n",
       "    (83): ReLU()\n",
       "    (84): Linear(in_features=256, out_features=256, bias=True)\n",
       "    (85): ReLU()\n",
       "    (86): Linear(in_features=256, out_features=256, bias=True)\n",
       "    (87): ReLU()\n",
       "    (88): Linear(in_features=256, out_features=256, bias=True)\n",
       "    (89): ReLU()\n",
       "    (90): Linear(in_features=256, out_features=256, bias=True)\n",
       "    (91): ReLU()\n",
       "    (92): Linear(in_features=256, out_features=256, bias=True)\n",
       "    (93): ReLU()\n",
       "    (94): Linear(in_features=256, out_features=256, bias=True)\n",
       "    (95): ReLU()\n",
       "    (96): Linear(in_features=256, out_features=256, bias=True)\n",
       "    (97): ReLU()\n",
       "    (98): Linear(in_features=256, out_features=256, bias=True)\n",
       "    (99): ReLU()\n",
       "    (100): Linear(in_features=256, out_features=256, bias=True)\n",
       "    (101): ReLU()\n",
       "    (102): Linear(in_features=256, out_features=12, bias=True)\n",
       "    (103): Sigmoid()\n",
       "  )\n",
       ")"
      ]
     },
     "execution_count": 7,
     "metadata": {},
     "output_type": "execute_result"
    }
   ],
   "source": [
    "from GNNClassifier import UCANN\n",
    "\n",
    "# Initialize the model\n",
    "model = UCANN(input_dim, hidden_dim, output_dim)\n",
    "model.to(device)"
   ]
  },
  {
   "cell_type": "markdown",
   "metadata": {},
   "source": [
    "#### ANN model training"
   ]
  },
  {
   "cell_type": "code",
   "execution_count": 8,
   "metadata": {},
   "outputs": [
    {
     "data": {
      "image/png": "[encoded data removed]",
      "text/plain": [
       "<Figure size 500x300 with 1 Axes>"
      ]
     },
     "metadata": {},
     "output_type": "display_data"
    }
   ],
   "source": [
    "# Set number of epochs\n",
    "epochs = 500\n",
    "\n",
    "# Set optimizer\n",
    "optimizer = torch.optim.Adam(model.parameters(), lr=0.001, weight_decay=1e-4)\n",
    "\n",
    "# Set model to training mode\n",
    "model.train()\n",
    "\n",
    "# Model training and validation\n",
    "epoch_loss = []\n",
    "start_time = time.time()\n",
    "for epoch in range(epochs):\n",
    "    batch_loss = []\n",
    "    for loader in train_loader:\n",
    "        loader.to(device)\n",
    "\n",
    "        optimizer.zero_grad()\n",
    "\n",
    "        y_pred = model(loader.x, loader.edge_index)\n",
    "\n",
    "        loss = F.binary_cross_entropy(y_pred, loader.y)\n",
    "\n",
    "        loss.backward()\n",
    "        optimizer.step()\n",
    "        batch_loss.append(loss.item())\n",
    "    epoch_loss.append(np.mean(batch_loss))\n",
    "\n",
    "end_time = time.time()\n",
    "training_time = (end_time - start_time)/60\n",
    "\n",
    "plt.figure(figsize=(5, 3))\n",
    "plt.plot(epoch_loss)\n",
    "plt.yscale('log')\n",
    "plt.xlabel('Epoch')\n",
    "plt.ylabel('Binary cross entropy loss')\n",
    "plt.title(f'Training time: {training_time:.2f}')\n",
    "plt.show()\n",
    "plt.close('all')"
   ]
  },
  {
   "cell_type": "markdown",
   "metadata": {},
   "source": [
    "#### Save ANN model"
   ]
  },
  {
   "cell_type": "code",
   "execution_count": 6,
   "metadata": {},
   "outputs": [],
   "source": [
    "torch.save(model, './trained_model/UCANN_model.pt')"
   ]
  },
  {
   "cell_type": "markdown",
   "metadata": {},
   "source": [
    "#### ANN model testing"
   ]
  },
  {
   "cell_type": "code",
   "execution_count": 7,
   "metadata": {},
   "outputs": [],
   "source": [
    "# Load the model\n",
    "model = torch.load('./trained_model/UCANN_model.pt')\n",
    "\n",
    "########################### Testing dataset ###########################\n",
    "# Get test dataset\n",
    "test_size = 200\n",
    "test_dataset = dataset[-test_size:]\n",
    "\n",
    "# Create test loader\n",
    "############ Shuffle cannot beb True for testing ##################\n",
    "test_loader = DataLoader(test_dataset, batch_size=batch_size, shuffle=False)\n",
    "\n",
    "model.eval()\n",
    "with torch.no_grad():\n",
    "    for i, loader in enumerate(test_loader):\n",
    "        loader.to(device)\n",
    "        # Get ground true\n",
    "        ground_true = loader.y.cpu().detach().numpy()\n",
    "        # Save ground true\n",
    "        for j in range(batch_size):\n",
    "            file_path = f'./model_evaluation/ANN/UC_true/true_{i*batch_size+j+1}.csv'\n",
    "            pd.DataFrame(ground_true[j*unit_length:(j+1)*unit_length]).to_csv(file_path, columns=None, index=None, header=None)\n",
    "\n",
    "        # Get prediction\n",
    "        pred = model(loader.x, loader.edge_index)\n",
    "        pred = (pred>0.5).float()\n",
    "        pred = pred.cpu().detach().numpy()\n",
    "        # Save prediction\n",
    "        for j in range(batch_size):\n",
    "            file_path = f'./model_evaluation/ANN/UC_pred/pred_{i*batch_size+j+1}.csv'\n",
    "            pd.DataFrame(pred[j*unit_length:(j+1)*unit_length]).to_csv(file_path, columns=None, index=None, header=None)\n",
    "\n",
    "\n",
    "\n",
    "########################### Complete dataset ###########################\n",
    "# Get test dataset\n",
    "test_dataset = dataset[:]\n",
    "\n",
    "# Create test loader\n",
    "############ Shuffle cannot beb True for testing ##################\n",
    "test_loader = DataLoader(test_dataset, batch_size=batch_size, shuffle=False)\n",
    "\n",
    "model.eval()\n",
    "with torch.no_grad():\n",
    "    for i, loader in enumerate(test_loader):\n",
    "        loader.to(device)\n",
    "        # Get ground true\n",
    "        ground_true = loader.y.cpu().detach().numpy()\n",
    "        # Save ground true\n",
    "        for j in range(batch_size):\n",
    "            file_path = f'./model_evaluation//ANN/UC_true_all/true_{i*batch_size+j+1}.csv'\n",
    "            pd.DataFrame(ground_true[j*unit_length:(j+1)*unit_length]).to_csv(file_path, columns=None, index=None, header=None)\n",
    "\n",
    "        # Get prediction\n",
    "        pred = model(loader.x, loader.edge_index)\n",
    "        pred = (pred>0.5).float()\n",
    "        pred = pred.cpu().detach().numpy()\n",
    "        # Save prediction\n",
    "        for j in range(batch_size):\n",
    "            file_path = f'./model_evaluation/ANN/UC_pred_all/pred_{i*batch_size+j+1}.csv'\n",
    "            pd.DataFrame(pred[j*unit_length:(j+1)*unit_length]).to_csv(file_path, columns=None, index=None, header=None)"
   ]
  },
  {
   "cell_type": "markdown",
   "metadata": {},
   "source": [
    "## SAGE"
   ]
  },
  {
   "cell_type": "code",
   "execution_count": 8,
   "metadata": {},
   "outputs": [
    {
     "data": {
      "text/plain": [
       "UCSAGE(\n",
       "  (gnn): Sequential(\n",
       "    (0): SAGEConv(32, 64, aggr=mean)\n",
       "    (1): ReLU()\n",
       "    (2): SAGEConv(64, 64, aggr=mean)\n",
       "    (3): ReLU()\n",
       "    (4): SAGEConv(64, 64, aggr=mean)\n",
       "    (5): ReLU()\n",
       "    (6): SAGEConv(64, 12, aggr=mean)\n",
       "    (7): Sigmoid()\n",
       "  )\n",
       ")"
      ]
     },
     "execution_count": 8,
     "metadata": {},
     "output_type": "execute_result"
    }
   ],
   "source": [
    "from GNNClassifier import UCSAGE\n",
    "\n",
    "# Initialize the model\n",
    "model = UCSAGE(input_dim, hidden_dim, output_dim)\n",
    "model.to(device)"
   ]
  },
  {
   "cell_type": "markdown",
   "metadata": {},
   "source": [
    "#### SAGE model training"
   ]
  },
  {
   "cell_type": "code",
   "execution_count": 9,
   "metadata": {},
   "outputs": [
    {
     "data": {
      "image/png": "[encoded data removed]",
      "text/plain": [
       "<Figure size 500x300 with 1 Axes>"
      ]
     },
     "metadata": {},
     "output_type": "display_data"
    }
   ],
   "source": [
    "# Set number of epochs\n",
    "epochs = 500\n",
    "\n",
    "# Set optimizer\n",
    "optimizer = torch.optim.Adam(model.parameters(), lr=0.001, weight_decay=1e-4)\n",
    "\n",
    "# Set model to training mode\n",
    "model.train()\n",
    "\n",
    "# Model training and validation\n",
    "epoch_loss = []\n",
    "start_time = time.time()\n",
    "for epoch in range(epochs):\n",
    "    batch_loss = []\n",
    "    for loader in train_loader:\n",
    "        loader.to(device)\n",
    "\n",
    "        optimizer.zero_grad()\n",
    "\n",
    "        y_pred = model(loader.x, loader.edge_index)\n",
    "\n",
    "        loss = F.binary_cross_entropy(y_pred, loader.y)\n",
    "\n",
    "        loss.backward()\n",
    "        optimizer.step()\n",
    "        batch_loss.append(loss.item())\n",
    "    epoch_loss.append(np.mean(batch_loss))\n",
    "\n",
    "end_time = time.time()\n",
    "training_time = (end_time - start_time)/60\n",
    "\n",
    "plt.figure(figsize=(5, 3))\n",
    "plt.plot(epoch_loss)\n",
    "plt.yscale('log')\n",
    "plt.xlabel('Epoch')\n",
    "plt.ylabel('Binary cross entropy loss')\n",
    "plt.title(f'Training time: {training_time:.2f}')\n",
    "plt.show()\n",
    "plt.close('all')"
   ]
  },
  {
   "cell_type": "markdown",
   "metadata": {},
   "source": [
    "#### Save SAGE model"
   ]
  },
  {
   "cell_type": "code",
   "execution_count": 10,
   "metadata": {},
   "outputs": [],
   "source": [
    "torch.save(model, './trained_model/UCSAGE_model.pt')"
   ]
  },
  {
   "cell_type": "markdown",
   "metadata": {},
   "source": [
    "#### SAGE model testing"
   ]
  },
  {
   "cell_type": "code",
   "execution_count": 11,
   "metadata": {},
   "outputs": [],
   "source": [
    "# Load the model\n",
    "model = torch.load('./trained_model/UCSAGE_model.pt')\n",
    "\n",
    "########################### Testing dataset ###########################\n",
    "# Get test dataset\n",
    "test_size = 200\n",
    "test_dataset = dataset[-test_size:]\n",
    "\n",
    "# Create test loader\n",
    "############ Shuffle cannot beb True for testing ##################\n",
    "test_loader = DataLoader(test_dataset, batch_size=batch_size, shuffle=False)\n",
    "\n",
    "model.eval()\n",
    "with torch.no_grad():\n",
    "    for i, loader in enumerate(test_loader):\n",
    "        loader.to(device)\n",
    "        # Get ground true\n",
    "        ground_true = loader.y.cpu().detach().numpy()\n",
    "        # Save ground true\n",
    "        for j in range(batch_size):\n",
    "            file_path = f'./model_evaluation/SAGE/UC_true/true_{i*batch_size+j+1}.csv'\n",
    "            pd.DataFrame(ground_true[j*unit_length:(j+1)*unit_length]).to_csv(file_path, columns=None, index=None, header=None)\n",
    "\n",
    "        # Get prediction\n",
    "        pred = model(loader.x, loader.edge_index)\n",
    "        pred = (pred>0.5).float()\n",
    "        pred = pred.cpu().detach().numpy()\n",
    "        # Save prediction\n",
    "        for j in range(batch_size):\n",
    "            file_path = f'./model_evaluation/SAGE/UC_pred/pred_{i*batch_size+j+1}.csv'\n",
    "            pd.DataFrame(pred[j*unit_length:(j+1)*unit_length]).to_csv(file_path, columns=None, index=None, header=None)\n",
    "\n",
    "\n",
    "\n",
    "########################### Complete dataset ###########################\n",
    "# Get test dataset\n",
    "test_dataset = dataset[:]\n",
    "\n",
    "# Create test loader\n",
    "############ Shuffle cannot beb True for testing ##################\n",
    "test_loader = DataLoader(test_dataset, batch_size=batch_size, shuffle=False)\n",
    "\n",
    "model.eval()\n",
    "with torch.no_grad():\n",
    "    for i, loader in enumerate(test_loader):\n",
    "        loader.to(device)\n",
    "        # Get ground true\n",
    "        ground_true = loader.y.cpu().detach().numpy()\n",
    "        # Save ground true\n",
    "        for j in range(batch_size):\n",
    "            file_path = f'./model_evaluation//SAGE/UC_true_all/true_{i*batch_size+j+1}.csv'\n",
    "            pd.DataFrame(ground_true[j*unit_length:(j+1)*unit_length]).to_csv(file_path, columns=None, index=None, header=None)\n",
    "\n",
    "        # Get prediction\n",
    "        pred = model(loader.x, loader.edge_index)\n",
    "        pred = (pred>0.5).float()\n",
    "        pred = pred.cpu().detach().numpy()\n",
    "        # Save prediction\n",
    "        for j in range(batch_size):\n",
    "            file_path = f'./model_evaluation/SAGE/UC_pred_all/pred_{i*batch_size+j+1}.csv'\n",
    "            pd.DataFrame(pred[j*unit_length:(j+1)*unit_length]).to_csv(file_path, columns=None, index=None, header=None)"
   ]
  },
  {
   "cell_type": "markdown",
   "metadata": {},
   "source": [
    "## GCN"
   ]
  },
  {
   "cell_type": "code",
   "execution_count": 12,
   "metadata": {},
   "outputs": [
    {
     "data": {
      "text/plain": [
       "UCGCN(\n",
       "  (gnn): Sequential(\n",
       "    (0): GCNConv(32, 64)\n",
       "    (1): ReLU()\n",
       "    (2): GCNConv(64, 64)\n",
       "    (3): ReLU()\n",
       "    (4): GCNConv(64, 64)\n",
       "    (5): ReLU()\n",
       "    (6): GCNConv(64, 12)\n",
       "    (7): Sigmoid()\n",
       "  )\n",
       ")"
      ]
     },
     "execution_count": 12,
     "metadata": {},
     "output_type": "execute_result"
    }
   ],
   "source": [
    "from GNNClassifier import UCGCN\n",
    "\n",
    "# Initialize the model\n",
    "model = UCGCN(input_dim, hidden_dim, output_dim)\n",
    "model.to(device)"
   ]
  },
  {
   "cell_type": "markdown",
   "metadata": {},
   "source": [
    "#### GCN model training"
   ]
  },
  {
   "cell_type": "code",
   "execution_count": 13,
   "metadata": {},
   "outputs": [
    {
     "data": {
      "image/png": "[encoded data removed]",
      "text/plain": [
       "<Figure size 500x300 with 1 Axes>"
      ]
     },
     "metadata": {},
     "output_type": "display_data"
    }
   ],
   "source": [
    "# Set number of epochs\n",
    "epochs = 500\n",
    "\n",
    "# Set optimizer\n",
    "optimizer = torch.optim.Adam(model.parameters(), lr=0.001, weight_decay=1e-4)\n",
    "\n",
    "# Set model to training mode\n",
    "model.train()\n",
    "\n",
    "# Model training and validation\n",
    "epoch_loss = []\n",
    "start_time = time.time()\n",
    "for epoch in range(epochs):\n",
    "    batch_loss = []\n",
    "    for loader in train_loader:\n",
    "        loader.to(device)\n",
    "\n",
    "        optimizer.zero_grad()\n",
    "\n",
    "        y_pred = model(loader.x, loader.edge_index)\n",
    "\n",
    "        loss = F.binary_cross_entropy(y_pred, loader.y)\n",
    "\n",
    "        loss.backward()\n",
    "        optimizer.step()\n",
    "        batch_loss.append(loss.item())\n",
    "    epoch_loss.append(np.mean(batch_loss))\n",
    "\n",
    "end_time = time.time()\n",
    "training_time = (end_time - start_time)/60\n",
    "\n",
    "plt.figure(figsize=(5, 3))\n",
    "plt.plot(epoch_loss)\n",
    "plt.yscale('log')\n",
    "plt.xlabel('Epoch')\n",
    "plt.ylabel('Binary cross entropy loss')\n",
    "plt.title(f'Training time: {training_time:.2f}')\n",
    "plt.show()\n",
    "plt.close('all')"
   ]
  },
  {
   "cell_type": "markdown",
   "metadata": {},
   "source": [
    "#### Save GCN model"
   ]
  },
  {
   "cell_type": "code",
   "execution_count": 14,
   "metadata": {},
   "outputs": [],
   "source": [
    "torch.save(model, './trained_model/UCGCN_model.pt')"
   ]
  },
  {
   "cell_type": "markdown",
   "metadata": {},
   "source": [
    "#### GCN model testing"
   ]
  },
  {
   "cell_type": "code",
   "execution_count": 15,
   "metadata": {},
   "outputs": [],
   "source": [
    "# Load the model\n",
    "model = torch.load('./trained_model/UCGCN_model.pt')\n",
    "\n",
    "########################### Testing dataset ###########################\n",
    "# Get test dataset\n",
    "test_size = 200\n",
    "test_dataset = dataset[-test_size:]\n",
    "\n",
    "# Create test loader\n",
    "############ Shuffle cannot beb True for testing ##################\n",
    "test_loader = DataLoader(test_dataset, batch_size=batch_size, shuffle=False)\n",
    "\n",
    "model.eval()\n",
    "with torch.no_grad():\n",
    "    for i, loader in enumerate(test_loader):\n",
    "        loader.to(device)\n",
    "        # Get ground true\n",
    "        ground_true = loader.y.cpu().detach().numpy()\n",
    "        # Save ground true\n",
    "        for j in range(batch_size):\n",
    "            file_path = f'./model_evaluation/GCN/UC_true/true_{i*batch_size+j+1}.csv'\n",
    "            pd.DataFrame(ground_true[j*unit_length:(j+1)*unit_length]).to_csv(file_path, columns=None, index=None, header=None)\n",
    "\n",
    "        # Get prediction\n",
    "        pred = model(loader.x, loader.edge_index)\n",
    "        pred = (pred>0.5).float()\n",
    "        pred = pred.cpu().detach().numpy()\n",
    "        # Save prediction\n",
    "        for j in range(batch_size):\n",
    "            file_path = f'./model_evaluation/GCN/UC_pred/pred_{i*batch_size+j+1}.csv'\n",
    "            pd.DataFrame(pred[j*unit_length:(j+1)*unit_length]).to_csv(file_path, columns=None, index=None, header=None)\n",
    "\n",
    "\n",
    "\n",
    "########################### Complete dataset ###########################\n",
    "# Get test dataset\n",
    "test_dataset = dataset[:]\n",
    "\n",
    "# Create test loader\n",
    "############ Shuffle cannot beb True for testing ##################\n",
    "test_loader = DataLoader(test_dataset, batch_size=batch_size, shuffle=False)\n",
    "\n",
    "model.eval()\n",
    "with torch.no_grad():\n",
    "    for i, loader in enumerate(test_loader):\n",
    "        loader.to(device)\n",
    "        # Get ground true\n",
    "        ground_true = loader.y.cpu().detach().numpy()\n",
    "        # Save ground true\n",
    "        for j in range(batch_size):\n",
    "            file_path = f'./model_evaluation//GCN/UC_true_all/true_{i*batch_size+j+1}.csv'\n",
    "            pd.DataFrame(ground_true[j*unit_length:(j+1)*unit_length]).to_csv(file_path, columns=None, index=None, header=None)\n",
    "\n",
    "        # Get prediction\n",
    "        pred = model(loader.x, loader.edge_index)\n",
    "        pred = (pred>0.5).float()\n",
    "        pred = pred.cpu().detach().numpy()\n",
    "        # Save prediction\n",
    "        for j in range(batch_size):\n",
    "            file_path = f'./model_evaluation/GCN/UC_pred_all/pred_{i*batch_size+j+1}.csv'\n",
    "            pd.DataFrame(pred[j*unit_length:(j+1)*unit_length]).to_csv(file_path, columns=None, index=None, header=None)"
   ]
  }
 ],
 "metadata": {
  "kernelspec": {
   "display_name": "PyG-cpu",
   "language": "python",
   "name": "python3"
  },
  "language_info": {
   "codemirror_mode": {
    "name": "ipython",
    "version": 3
   },
   "file_extension": ".py",
   "mimetype": "text/x-python",
   "name": "python",
   "nbconvert_exporter": "python",
   "pygments_lexer": "ipython3",
   "version": "3.11.5"
  },
  "orig_nbformat": 4
 },
 "nbformat": 4,
 "nbformat_minor": 2
}
