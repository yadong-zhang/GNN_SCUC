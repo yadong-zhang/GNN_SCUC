{
 "cells": [
  {
   "cell_type": "code",
   "execution_count": 7,
   "metadata": {},
   "outputs": [],
   "source": [
    "import os\n",
    "import time\n",
    "import random\n",
    "import numpy as np\n",
    "import pandas as pd\n",
    "import matplotlib.pyplot as plt\n",
    "from matplotlib.colors import LogNorm\n",
    "import seaborn as sns\n",
    "\n",
    "%config InlineBackend.figure_format = 'png'\n",
    "plt.rcParams['font.size'] = 12"
   ]
  },
  {
   "cell_type": "markdown",
   "metadata": {},
   "source": [
    "#### Get thermal gens Boolean index"
   ]
  },
  {
   "cell_type": "code",
   "execution_count": 8,
   "metadata": {},
   "outputs": [],
   "source": [
    "# Time steps\n",
    "nt = 12\n",
    "\n",
    "# All buses\n",
    "num_buses = 118\n",
    "buses = np.arange(1, num_buses+1)\n",
    "\n",
    "# Read thermal buses\n",
    "file_path = '../../data/IEEE_Case118/zones/thermal_bus.csv'\n",
    "thermal_buses = pd.read_csv(file_path, header=None, index_col=None)\n",
    "\n",
    "# Get thermal buses Boolean index\n",
    "thermal_bidx = np.isin(buses, thermal_buses)"
   ]
  },
  {
   "cell_type": "markdown",
   "metadata": {},
   "source": [
    "#### Plot UC ground true and prediction"
   ]
  },
  {
   "cell_type": "code",
   "execution_count": 9,
   "metadata": {},
   "outputs": [],
   "source": [
    "# The number of demonstration plots\n",
    "num_demos = 10\n",
    "\n",
    "for i in range(num_demos):\n",
    "    # Read UC true\n",
    "    file_path = f'./model_evaluation/UC_true/true_{i+1}.csv'\n",
    "    UC_true = pd.read_csv(file_path, header=None, index_col=None).to_numpy()\n",
    "    UC_true = UC_true[thermal_bidx]\n",
    "\n",
    "    # Read UC prediction\n",
    "    file_path = f'./model_evaluation/UC_pred/pred_{i+1}.csv'\n",
    "    UC_pred= pd.read_csv(file_path, header=None, index_col=None)\n",
    "    UC_pred = UC_pred[thermal_bidx]\n",
    "\n",
    "    fig = plt.figure(figsize=(5, 4))\n",
    "    ax1 = fig.add_subplot(1, 2, 1)\n",
    "    ax1.set_title('Ground truth')\n",
    "    ax2 = fig.add_subplot(1, 2, 2)\n",
    "    ax2.set_title('Prediction')\n",
    "    sns.heatmap(UC_true, \n",
    "                ax=ax1, \n",
    "                cbar=False, \n",
    "                vmin=0, \n",
    "                vmax=1, \n",
    "                xticklabels=[], \n",
    "                yticklabels=[],\n",
    "                linewidth=1)\n",
    "    sns.heatmap(UC_pred, \n",
    "                ax=ax2, \n",
    "                cbar=False, \n",
    "                vmin=0, \n",
    "                vmax=1, \n",
    "                xticklabels=[], \n",
    "                yticklabels=[],\n",
    "                linewidth=1)\n",
    "    plt.tight_layout()\n",
    "    fig.savefig(f'./model_evaluation/UC_plotting/fig{i+1}.pdf')\n",
    "    plt.close('all')"
   ]
  },
  {
   "cell_type": "markdown",
   "metadata": {},
   "source": [
    "#### Calculate accuracy"
   ]
  },
  {
   "cell_type": "code",
   "execution_count": 10,
   "metadata": {},
   "outputs": [],
   "source": [
    "# Overall number of UC\n",
    "num_data = 200\n",
    "\n",
    "# Read ground truth\n",
    "UC_true_list = np.zeros((num_data, num_buses, nt))\n",
    "for i in range(num_data):\n",
    "    # Read UC true\n",
    "    file_path = f'./model_evaluation/UC_true/true_{i+1}.csv'\n",
    "    UC_true = pd.read_csv(file_path, header=None, index_col=None).to_numpy()\n",
    "    UC_true_list[i] = UC_true.copy()\n",
    "\n",
    "UC_true_list = UC_true_list[:, thermal_bidx, :]\n",
    "\n",
    "# Read prediction\n",
    "UC_pred_list = np.zeros((num_data, num_buses, nt))\n",
    "for i in range(num_data):\n",
    "    # Read UC true\n",
    "    file_path = f'./model_evaluation/UC_pred/pred_{i+1}.csv'\n",
    "    UC_pred = pd.read_csv(file_path, header=None, index_col=None).to_numpy()\n",
    "    UC_pred_list[i] = UC_pred.copy()\n",
    "\n",
    "UC_pred_list = UC_pred_list[:, thermal_bidx, :]"
   ]
  },
  {
   "cell_type": "markdown",
   "metadata": {},
   "source": [
    "#### Plot average accuracy"
   ]
  },
  {
   "cell_type": "code",
   "execution_count": 11,
   "metadata": {},
   "outputs": [],
   "source": [
    "# Read gen buses\n",
    "file_path = '../../data/IEEE_Case118/zones/gen_bus.csv'\n",
    "gen_buses = pd.read_csv(file_path, header=None, index_col=None)\n",
    "\n",
    "# Read thermal buses\n",
    "file_path = '../../data/IEEE_Case118/zones/thermal_bus.csv'\n",
    "thermal_buses = pd.read_csv(file_path, header=None, index_col=None)\n",
    "\n",
    "# Get Booleanindex of thermal buses in gen buses\n",
    "bidx = np.isin(gen_buses, thermal_buses)\n",
    "\n",
    "# Get thermal gen features (To be determined)\n",
    "Pmax = pd.read_csv('../../data/IEEE_Case118/gen_params/Pmax.csv',\n",
    "                    header=None,\n",
    "                    index_col=None)\n",
    "\n",
    "# Get thermal Pmax\n",
    "thermal_Pmax = Pmax[bidx].to_numpy().flatten().round(2)"
   ]
  },
  {
   "cell_type": "code",
   "execution_count": 12,
   "metadata": {},
   "outputs": [
    {
     "data": {
      "image/png": "[encoded data removed]",
      "text/plain": [
       "<Figure size 500x400 with 2 Axes>"
      ]
     },
     "metadata": {},
     "output_type": "display_data"
    }
   ],
   "source": [
    "# Compare UC_true and UC_pred\n",
    "acc = (UC_true_list == UC_pred_list).astype(int)\n",
    "\n",
    "# Calculate accuracy\n",
    "res = np.mean(acc, axis=0)\n",
    "\n",
    "# Plot average accuracy\n",
    "fig = plt.figure(figsize=(5, 4))\n",
    "ax = fig.add_subplot(111)\n",
    "sns.heatmap(res, \n",
    "            ax=ax,\n",
    "            xticklabels=[], \n",
    "            yticklabels=[],\n",
    "            linewidth=0.5)\n",
    "ax.set_title('Average accuracy')\n",
    "ax.set_xlabel('Time steps')\n",
    "ax.set_ylabel('Thermal generators')\n",
    "plt.tight_layout()\n",
    "plt.show()\n",
    "plt.close('all')"
   ]
  }
 ],
 "metadata": {
  "kernelspec": {
   "display_name": "PyG-cpu",
   "language": "python",
   "name": "python3"
  },
  "language_info": {
   "codemirror_mode": {
    "name": "ipython",
    "version": 3
   },
   "file_extension": ".py",
   "mimetype": "text/x-python",
   "name": "python",
   "nbconvert_exporter": "python",
   "pygments_lexer": "ipython3",
   "version": "3.9.6"
  },
  "orig_nbformat": 4
 },
 "nbformat": 4,
 "nbformat_minor": 2
}
