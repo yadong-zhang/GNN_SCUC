{
 "cells": [
  {
   "cell_type": "code",
   "execution_count": 1,
   "metadata": {},
   "outputs": [],
   "source": [
    "import os\n",
    "import shutil\n",
    "import random\n",
    "import numpy as np\n",
    "import pandas as pd\n",
    "\n",
    "import torch\n",
    "from torch_geometric.data import Data"
   ]
  },
  {
   "cell_type": "markdown",
   "metadata": {},
   "source": [
    "## Read grid info"
   ]
  },
  {
   "cell_type": "code",
   "execution_count": 2,
   "metadata": {},
   "outputs": [],
   "source": [
    "# Create buses\n",
    "num_buses = 2848\n",
    "buses = np.arange(1, num_buses+1)\n",
    "\n",
    "# Read gen buses\n",
    "file_path = f'../../data/IEEE_Case2848/zones/gen_bus.csv'\n",
    "gen_buses = pd.read_csv(file_path, header=None, index_col=None)\n",
    "\n",
    "# Read thermal buses\n",
    "file_path = f'../../data/IEEE_Case2848/zones/thermal_bus.csv'\n",
    "thermal_buses = pd.read_csv(file_path, header=None, index_col=None)\n",
    "\n",
    "# Read wind gen buses\n",
    "file_path = f'../../data/IEEE_Case2848/zones/wind_bus.csv'\n",
    "wind_buses = pd.read_csv(file_path, header=None, index_col=None)\n",
    "\n",
    "# Read load buses\n",
    "file_path = f'../../data/IEEE_Case2848/zones/load_bus.csv'\n",
    "load_buses = pd.read_csv(file_path, header=None, index_col=None)"
   ]
  },
  {
   "cell_type": "code",
   "execution_count": 3,
   "metadata": {},
   "outputs": [],
   "source": [
    "# Boolean index of thermal buses\n",
    "thermal_bidx = np.isin(buses, thermal_buses)\n",
    "\n",
    "# Boolean index of wind buses\n",
    "wind_bidx = np.isin(buses, wind_buses)\n",
    "\n",
    "# Boolean index of load buses\n",
    "load_bidx = np.isin(buses, load_buses)"
   ]
  },
  {
   "cell_type": "code",
   "execution_count": 4,
   "metadata": {},
   "outputs": [],
   "source": [
    "# Time steps\n",
    "nt = 12\n",
    "\n",
    "# Read wind and load inputs into MATPOWER\n",
    "num_samples = 1000\n",
    "\n",
    "max_num = 1528"
   ]
  },
  {
   "cell_type": "markdown",
   "metadata": {},
   "source": [
    "## Model inputs"
   ]
  },
  {
   "cell_type": "code",
   "execution_count": null,
   "metadata": {},
   "outputs": [],
   "source": [
    "# Empty list to store data\n",
    "x = []\n",
    "\n",
    "# Empty node feature matrix\n",
    "node_features = np.zeros((buses.shape[0], 2*nt))\n",
    "\n",
    "# Assign wind and load features\n",
    "for i in range(max_num):\n",
    "    # File path\n",
    "    wind_path = f'../../data/IEEE_Case2848/inputs/wind/sample_{i+1}.csv'\n",
    "    load_path = f'../../data/IEEE_Case2848/inputs/load/sample_{i+1}.csv'\n",
    "\n",
    "    # Read wind and load\n",
    "    try:\n",
    "        wind = pd.read_csv(wind_path, header=None, index_col=None)\n",
    "        load = pd.read_csv(load_path, header=None, index_col=None)\n",
    "    except FileNotFoundError:\n",
    "        print(f'The file sample_{i+1} is not found')\n",
    "        continue\n",
    "\n",
    "    node_features[wind_bidx, :nt] = wind.values\n",
    "    node_features[load_bidx, nt:2*nt] = load.values\n",
    "\n",
    "    x.append(node_features.copy())"
   ]
  },
  {
   "cell_type": "markdown",
   "metadata": {},
   "source": [
    "## PB ground truth"
   ]
  },
  {
   "cell_type": "code",
   "execution_count": null,
   "metadata": {},
   "outputs": [],
   "source": [
    "y = []\n",
    "\n",
    "# Add zeros to make the dimension as [num_buses, nt*2]\n",
    "# all_PG = np.zeros((num_buses, nt*2))\n",
    "PB = np.zeros((num_buses, nt))\n",
    "\n",
    "temp1 = np.zeros((num_buses, nt))\n",
    "temp2 = np.zeros((num_buses, nt))\n",
    "temp3 = np.zeros((num_buses, nt))\n",
    "\n",
    "for i in range(max_num):\n",
    "    wind_path = f'../../data/IEEE_Case2848/outputs/deployed_wind/sample_{i+1}.csv'\n",
    "    PG_path = f'../../data/IEEE_Case2848/outputs/PG/sample_{i+1}.csv'\n",
    "    DL_path = f'../../data/IEEE_Case2848/outputs/deployed_load/sample_{i+1}.csv'\n",
    "    try:\n",
    "        wind = pd.read_csv(wind_path, header=None, index_col=None)\n",
    "        PG = pd.read_csv(PG_path, header=None, index_col=None)\n",
    "        DL = pd.read_csv(DL_path, header=None, index_col=None)\n",
    "    except FileNotFoundError:\n",
    "        print(f'The file sample_{i+1} is not found')\n",
    "        continue\n",
    "\n",
    "    temp1[wind_bidx] = wind.values\n",
    "    temp2[thermal_bidx] = PG.values\n",
    "    temp3[load_bidx] = DL.values\n",
    "\n",
    "    PB = temp1 + temp2 - temp3\n",
    "\n",
    "    y.append(PB.copy())"
   ]
  },
  {
   "cell_type": "markdown",
   "metadata": {},
   "source": [
    "## Edge index and attributes"
   ]
  },
  {
   "cell_type": "code",
   "execution_count": 11,
   "metadata": {},
   "outputs": [],
   "source": [
    "# Read branch info\n",
    "file_path = f'../../data/IEEE_Case2848/branch_params/branch_params.csv'\n",
    "branch = pd.read_csv(file_path, header=None, index_col=None).to_numpy()\n",
    "\n",
    "# Get branch index and attr\n",
    "edge_index = branch[:, :2] - 1\n",
    "\n",
    "# Convert to standard format\n",
    "edge_index = torch.tensor(edge_index.T, dtype=torch.long)"
   ]
  },
  {
   "cell_type": "markdown",
   "metadata": {},
   "source": [
    "## SAGE dataset"
   ]
  },
  {
   "cell_type": "code",
   "execution_count": null,
   "metadata": {},
   "outputs": [],
   "source": [
    "# Check the status of old dataset\n",
    "dir = f'../../train_val_test_dataset/IEEE_Case2848/PB/processed'\n",
    "if not os.path.exists(dir):\n",
    "    print(f'There is no dataset found!')\n",
    "else:\n",
    "    shutil.rmtree(dir)\n",
    "    print(f'The old dataset has been deleted!')\n",
    "\n",
    "# Save new dataset\n",
    "data_list = []\n",
    "for i in range(len(x)):\n",
    "    X = torch.from_numpy(x[i]).float()\n",
    "    Y = torch.from_numpy(y[i]).float()\n",
    "    graph = Data(x=X, y=Y, edge_index=edge_index)\n",
    "    data_list.append(graph)\n",
    "\n",
    "from CustomDataset import CustomDataset\n",
    "# Not that if there is already saved dataset, this cell won't work\n",
    "# Save train, val and test data\n",
    "root = f'../../train_val_test_dataset/IEEE_Case2848/PB/'\n",
    "CustomDataset(root=root, data_list=data_list)"
   ]
  }
 ],
 "metadata": {
  "kernelspec": {
   "display_name": "PyG-cpu",
   "language": "python",
   "name": "python3"
  },
  "language_info": {
   "codemirror_mode": {
    "name": "ipython",
    "version": 3
   },
   "file_extension": ".py",
   "mimetype": "text/x-python",
   "name": "python",
   "nbconvert_exporter": "python",
   "pygments_lexer": "ipython3",
   "version": "3.11.5"
  },
  "orig_nbformat": 4
 },
 "nbformat": 4,
 "nbformat_minor": 2
}
