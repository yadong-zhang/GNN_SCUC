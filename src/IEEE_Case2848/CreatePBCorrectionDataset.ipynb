{
 "cells": [
  {
   "cell_type": "code",
   "execution_count": 1,
   "metadata": {},
   "outputs": [],
   "source": [
    "import os\n",
    "import shutil\n",
    "import random\n",
    "import numpy as np\n",
    "import pandas as pd\n",
    "\n",
    "import torch\n",
    "from torch_geometric.data import Data"
   ]
  },
  {
   "cell_type": "markdown",
   "metadata": {},
   "source": [
    "## Prediction as inputs"
   ]
  },
  {
   "cell_type": "code",
   "execution_count": 2,
   "metadata": {},
   "outputs": [],
   "source": [
    "x_pred = []\n",
    "\n",
    "for i in range(1000):\n",
    "    pred_path = f'../../res/IEEE_Case1354/model_evaluation/PB/pred/pred_{i+1}.csv'\n",
    "    pred = pd.read_csv(pred_path, header=None, index_col=None)\n",
    "\n",
    "    x_pred.append(pred.values.copy())"
   ]
  },
  {
   "cell_type": "markdown",
   "metadata": {},
   "source": [
    "## Ground truth"
   ]
  },
  {
   "cell_type": "code",
   "execution_count": 3,
   "metadata": {},
   "outputs": [],
   "source": [
    "y = []\n",
    "\n",
    "for i in range(1000):\n",
    "    PB_path = f'../../res/IEEE_Case1354/model_evaluation/PB/true/true_{i+1}.csv'\n",
    "    PB = pd.read_csv(PB_path, header=None, index_col=None)\n",
    "\n",
    "    y.append(PB.values.copy())"
   ]
  },
  {
   "cell_type": "markdown",
   "metadata": {},
   "source": [
    "## Edge index"
   ]
  },
  {
   "cell_type": "code",
   "execution_count": 4,
   "metadata": {},
   "outputs": [],
   "source": [
    "# Read branch info\n",
    "file_path = '../../data/IEEE_Case1354/branch_params/branch_params.csv'\n",
    "branch = pd.read_csv(file_path, header=None, index_col=None).to_numpy()\n",
    "\n",
    "# Get branch index and attr\n",
    "edge_index = branch[:, :2] - 1\n",
    "\n",
    "# Convert to standard format\n",
    "edge_index = torch.tensor(edge_index.T, dtype=torch.long)"
   ]
  },
  {
   "cell_type": "markdown",
   "metadata": {},
   "source": [
    "## Create dataset"
   ]
  },
  {
   "cell_type": "code",
   "execution_count": 5,
   "metadata": {},
   "outputs": [
    {
     "name": "stdout",
     "output_type": "stream",
     "text": [
      "The old dataset has been deleted!\n"
     ]
    },
    {
     "name": "stderr",
     "output_type": "stream",
     "text": [
      "Processing...\n",
      "Done!\n"
     ]
    },
    {
     "data": {
      "text/plain": [
       "CustomDataset(1000)"
      ]
     },
     "execution_count": 5,
     "metadata": {},
     "output_type": "execute_result"
    }
   ],
   "source": [
    "# Check the status of old dataset\n",
    "dir = f'../../train_val_test_dataset/IEEE_Case1354/PB_correction/processed'\n",
    "if not os.path.exists(dir):\n",
    "    print(f'There is no dataset found!')\n",
    "else:\n",
    "    shutil.rmtree(dir)\n",
    "    print(f'The old dataset has been deleted!')\n",
    "\n",
    "# Save new dataset\n",
    "data_list = []\n",
    "for i in range(len(x_pred)):\n",
    "    X = torch.from_numpy(x_pred[i]).float()\n",
    "    Y = torch.from_numpy(y[i]).float()\n",
    "    graph = Data(x=X, y=Y, edge_index=edge_index)\n",
    "    data_list.append(graph)\n",
    "\n",
    "from CustomDataset import CustomDataset\n",
    "# Not that if there is already saved dataset, this cell won't work\n",
    "# Save train, val and test data\n",
    "root = f'../../train_val_test_dataset/IEEE_Case1354/PB_correction/'\n",
    "CustomDataset(root=root, data_list=data_list)"
   ]
  }
 ],
 "metadata": {
  "kernelspec": {
   "display_name": "PyG-gpu",
   "language": "python",
   "name": "python3"
  },
  "language_info": {
   "codemirror_mode": {
    "name": "ipython",
    "version": 3
   },
   "file_extension": ".py",
   "mimetype": "text/x-python",
   "name": "python",
   "nbconvert_exporter": "python",
   "pygments_lexer": "ipython3",
   "version": "3.11.5"
  }
 },
 "nbformat": 4,
 "nbformat_minor": 2
}
