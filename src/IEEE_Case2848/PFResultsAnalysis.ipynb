{
 "cells": [
  {
   "cell_type": "code",
   "execution_count": 1,
   "metadata": {},
   "outputs": [],
   "source": [
    "import os\n",
    "import time\n",
    "import random\n",
    "import numpy as np\n",
    "import pandas as pd\n",
    "import matplotlib.pyplot as plt\n",
    "from matplotlib.gridspec import GridSpec\n",
    "import seaborn as sns\n",
    "\n",
    "from torch_geometric.loader import DataLoader\n",
    "from CustomDataset import CustomDataset\n",
    "\n",
    "%config InlineBackend.figure_format = 'png2x'\n",
    "plt.rcParams['font.size'] = 10\n",
    "plt.rcParams['font.family'] = 'Times New Roman'\n",
    "plt.rcParams['mathtext.fontset'] = 'stix'  # 'stix' is similar to Times New Roman\n",
    "# If you want to use LaTeX to render all text (for more consistency)\n",
    "# plt.rcParams['text.usetex'] = True\n",
    "\n",
    "plt.rcParams['axes.linewidth'] = 0.5    # Axis line width\n",
    "plt.rcParams['lines.linewidth'] = 1    # Line width\n",
    "plt.rcParams['xtick.major.width'] = 0.5  # Set x major tick width to 2 points\n",
    "plt.rcParams['ytick.major.width'] = 0.5\n",
    "plt.rcParams['xtick.major.size'] = 6\n",
    "plt.rcParams['ytick.major.size'] = 6\n",
    "plt.rcParams['lines.markersize'] = 4\n",
    "colors = plt.rcParams['axes.prop_cycle'].by_key()['color']"
   ]
  },
  {
   "cell_type": "code",
   "execution_count": 3,
   "metadata": {},
   "outputs": [],
   "source": [
    "PTDF = pd.read_csv('../../data/IEEE_Case2848/PTDF/PTDF_matrix.csv', header=None, index_col=None)"
   ]
  },
  {
   "cell_type": "code",
   "execution_count": 4,
   "metadata": {},
   "outputs": [],
   "source": [
    "for i in range(num_data):\n",
    "    PB_true = pd.read_csv(f'../../res/IEEE_Case2848/model_evaluation/PB/true_corr/true_corr_{i+1}.csv', header=None, index_col=None)\n",
    "    PF_true = PTDF@PB_true\n",
    "    PF_true.to_csv(f'../../res/IEEE_Case2848/model_evaluation/PF/true_corr/true_corr_{i+1}.csv', index=None, header=None)\n",
    "\n",
    "    PB_pred = pd.read_csv(f'../../res/IEEE_Case2848/model_evaluation/PB/pred_corr/pred_corr_{i+1}.csv', header=None, index_col=None)\n",
    "    PF_pred = PTDF@PB_pred\n",
    "    PF_pred.to_csv(f'../../res/IEEE_Case2848/model_evaluation/PF/pred_corr/pred_corr_{i+1}.csv', index=None, header=None)"
   ]
  }
 ],
 "metadata": {
  "kernelspec": {
   "display_name": "PyG-gpu",
   "language": "python",
   "name": "python3"
  },
  "language_info": {
   "codemirror_mode": {
    "name": "ipython",
    "version": 3
   },
   "file_extension": ".py",
   "mimetype": "text/x-python",
   "name": "python",
   "nbconvert_exporter": "python",
   "pygments_lexer": "ipython3",
   "version": "3.11.5"
  }
 },
 "nbformat": 4,
 "nbformat_minor": 2
}
