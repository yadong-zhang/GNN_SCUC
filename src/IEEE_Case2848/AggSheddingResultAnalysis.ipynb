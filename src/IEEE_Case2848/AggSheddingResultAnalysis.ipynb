{
 "cells": [
  {
   "cell_type": "code",
   "execution_count": 1,
   "metadata": {},
   "outputs": [],
   "source": [
    "import os\n",
    "import time\n",
    "import random\n",
    "import numpy as np\n",
    "import pandas as pd\n",
    "import matplotlib.pyplot as plt\n",
    "from matplotlib.gridspec import GridSpec\n",
    "import seaborn as sns\n",
    "\n",
    "from torch_geometric.loader import DataLoader\n",
    "from CustomDataset import CustomDataset\n",
    "\n",
    "%config InlineBackend.figure_format = 'png2x'\n",
    "plt.rcParams['font.size'] = 10\n",
    "plt.rcParams['font.family'] = 'Times New Roman'\n",
    "plt.rcParams['mathtext.fontset'] = 'stix'  # 'stix' is similar to Times New Roman\n",
    "# If you want to use LaTeX to render all text (for more consistency)\n",
    "# plt.rcParams['text.usetex'] = True\n",
    "\n",
    "plt.rcParams['axes.linewidth'] = 0.5\n",
    "plt.rcParams['lines.linewidth'] = 1\n",
    "plt.rcParams['xtick.major.width'] = 0.5  # Set x major tick width to 2 points\n",
    "plt.rcParams['ytick.major.width'] = 0.5\n",
    "plt.rcParams['xtick.major.size'] = 6\n",
    "plt.rcParams['ytick.major.size'] = 6\n",
    "colors = plt.rcParams['axes.prop_cycle'].by_key()['color']"
   ]
  },
  {
   "cell_type": "markdown",
   "metadata": {},
   "source": [
    "### Read ground truth and prediction"
   ]
  },
  {
   "cell_type": "code",
   "execution_count": 2,
   "metadata": {},
   "outputs": [],
   "source": [
    "nt = 12\n",
    "\n",
    "num_zones = 8\n",
    "\n",
    "num_data = 200\n",
    "\n",
    "# Ground truth\n",
    "agg_Shedding_true = np.zeros((num_data, num_zones+1, nt))\n",
    "agg_Shedding_pred = np.zeros((num_data, num_zones+1, nt))\n",
    "\n",
    "# Read ground truth and prediction\n",
    "for i in range(num_data):\n",
    "    file_path  =f'../../res/IEEE_Case2848/model_evaluation/agg_Shedding/true/true_{i+1}.csv'\n",
    "    ground_truth = pd.read_csv(file_path, header=None, index_col=None)\n",
    "    agg_Shedding_true[i, :, :] = ground_truth.values.copy()\n",
    "\n",
    "    file_path  =f'../../res/IEEE_Case2848/model_evaluation/agg_Shedding/pred/pred_{i+1}.csv'\n",
    "    pred = pd.read_csv(file_path, header=None, index_col=None)\n",
    "    agg_Shedding_pred[i, :, :] = pred.values.copy()"
   ]
  },
  {
   "cell_type": "markdown",
   "metadata": {},
   "source": [
    "## One-on-one comparison"
   ]
  },
  {
   "cell_type": "code",
   "execution_count": null,
   "metadata": {},
   "outputs": [],
   "source": [
    "# System-level\n",
    "fig = plt.figure(figsize=(10, 7))\n",
    "x = np.linspace(0, 10, 100)\n",
    "y = x\n",
    "\n",
    "ax = fig.add_subplot(3, 3, 1)\n",
    "ax.plot(x, y, 'k--', linewidth=1.5, alpha=0.5)\n",
    "ax.scatter(agg_Shedding_true[:, 0, :].flatten()/1000, agg_Shedding_pred[:, 0, :].flatten()/1000, \n",
    "            s=20, c=colors[0], marker='o', edgecolors='none', alpha=0.3, label='System')\n",
    "ax.legend(loc='upper left')\n",
    "\n",
    "for i in range(1, num_zones+1):\n",
    "    ax = fig.add_subplot(3, 3, i+1)\n",
    "    ax.plot(x, y, 'k--', linewidth=1.5, alpha=0.5)\n",
    "    ax.scatter(agg_Shedding_true[:, i, :].flatten()/1000, agg_Shedding_pred[:, i, :].flatten()/1000, \n",
    "                s=20, c=colors[i], marker='o', edgecolors='none', alpha=0.3, label=f'Zone {i}')\n",
    "    ax.set_xlabel('Ground truth (1000 MW)')\n",
    "    ax.set_ylabel('Prediction (1000 MW)')\n",
    "    ax.legend(loc='upper left')\n",
    "\n",
    "plt.tight_layout()\n",
    "plt.show()\n",
    "plt.close('all')"
   ]
  },
  {
   "cell_type": "markdown",
   "metadata": {},
   "source": [
    "## Calculate MRE"
   ]
  },
  {
   "cell_type": "code",
   "execution_count": 4,
   "metadata": {},
   "outputs": [],
   "source": [
    "##############################################################################################################\n",
    "############################# Set threshold = 200 based on plot above ########################################\n",
    "##############################################################################################################\n",
    "rela_err = np.zeros(agg_Shedding_true.shape)   # Array to store relative error\n",
    "MRE = np.zeros((num_zones+1, nt))       # Array to store mean relative error\n",
    "indices = np.where(agg_Shedding_true > 200)     # Only consider the case where ground truth > 200\n",
    "rela_err[indices] = (agg_Shedding_true[indices] - agg_Shedding_pred[indices]) / agg_Shedding_true[indices] * 100 # Relative error\n",
    "MRE = np.mean(np.abs(rela_err), axis=0)    # Mean relative error"
   ]
  },
  {
   "cell_type": "markdown",
   "metadata": {},
   "source": [
    "## Zone-level MRE"
   ]
  },
  {
   "cell_type": "code",
   "execution_count": null,
   "metadata": {},
   "outputs": [],
   "source": [
    "fig = plt.figure(figsize=(8, 2.5))\n",
    "ax = fig.add_subplot(111)\n",
    "\n",
    "# System\n",
    "ax.plot(np.arange(1, 13), MRE[0, :], color=colors[0], linewidth=1, marker='s', markersize=3, label='System')\n",
    "# Zones\n",
    "for i in range(1, num_zones+1):\n",
    "    ax.plot(np.arange(1, 13), MRE[i, :], color=colors[i],  linewidth=1, marker='s', markersize=3, label=f'Zone {i}')\n",
    "    ax.set_xlabel('Time step $t$ [h]')\n",
    "    ax.set_ylabel('MRE [%]')\n",
    "    ax.set_xlim((0.5, 12.5))\n",
    "    # ax.set_ylim(0, 6)\n",
    "ax.legend(ncols=5)\n",
    "\n",
    "plt.tight_layout()\n",
    "plt.show()\n",
    "# fig.savefig(f'../../res/IEEE_Case2848/model_evaluation/agg_PG_MRE.pdf', bbox_inches='tight')\n",
    "plt.close('all')"
   ]
  },
  {
   "cell_type": "code",
   "execution_count": null,
   "metadata": {},
   "outputs": [],
   "source": [
    "# MRE table\n",
    "columns = [f'T = {i}' for i in range(1, 13)]\n",
    "MRE_table = pd.DataFrame(np.round(MRE, 3), columns=columns)\n",
    "MRE_table"
   ]
  },
  {
   "cell_type": "code",
   "execution_count": null,
   "metadata": {},
   "outputs": [],
   "source": [
    "tex_code = MRE_table.to_latex(index=False, escape=False)\n",
    "print(tex_code)"
   ]
  }
 ],
 "metadata": {
  "kernelspec": {
   "display_name": "PyG-cpu",
   "language": "python",
   "name": "python3"
  },
  "language_info": {
   "codemirror_mode": {
    "name": "ipython",
    "version": 3
   },
   "file_extension": ".py",
   "mimetype": "text/x-python",
   "name": "python",
   "nbconvert_exporter": "python",
   "pygments_lexer": "ipython3",
   "version": "3.11.5"
  },
  "orig_nbformat": 4
 },
 "nbformat": 4,
 "nbformat_minor": 2
}
