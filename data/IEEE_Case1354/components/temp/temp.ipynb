{
 "cells": [
  {
   "cell_type": "code",
   "execution_count": 1,
   "metadata": {},
   "outputs": [],
   "source": [
    "import numpy  as np\n",
    "import pandas as pd\n",
    "import matplotlib.pyplot as plt"
   ]
  },
  {
   "cell_type": "code",
   "execution_count": 2,
   "metadata": {},
   "outputs": [],
   "source": [
    "# Read original bus index\n",
    "original_bus = pd.read_csv('./original_bus.csv', header=None, index_col=None)\n",
    "\n",
    "# Read original gen index\n",
    "original_gen = pd.read_csv('./original_gen.csv', header=None, index_col=None)\n",
    "\n",
    "# Read original branch index\n",
    "original_branch = pd.read_csv('./original_branch.csv', header=None, index_col=None)"
   ]
  },
  {
   "cell_type": "code",
   "execution_count": 3,
   "metadata": {},
   "outputs": [],
   "source": [
    "# New bus index\n",
    "new_bus = np.arange(1, 1355)\n",
    "\n",
    "# New gen index\n",
    "new_gen = new_bus[np.isin(original_bus.values.flatten(), original_gen.values.flatten())]\n",
    "\n",
    "new_branch = np.zeros((len(original_branch), 2))\n",
    "# New branch index\n",
    "for i in range(len(original_branch)):\n",
    "    new_branch[i, 0] = new_bus[np.isin(original_bus.values.flatten(), original_branch.values[i, 0])]\n",
    "    new_branch[i, 1] = new_bus[np.isin(original_bus.values.flatten(), original_branch.values[i, 1])]"
   ]
  },
  {
   "cell_type": "code",
   "execution_count": 4,
   "metadata": {},
   "outputs": [],
   "source": [
    "# Save new gen index\n",
    "pd.Series(new_gen).to_csv('./new_gen.csv', header=None, index=None)\n",
    "\n",
    "# Save new branch index\n",
    "pd.DataFrame(new_branch).to_csv('./new_branch.csv', header=None, index=None)    "
   ]
  }
 ],
 "metadata": {
  "kernelspec": {
   "display_name": "Python 3",
   "language": "python",
   "name": "python3"
  },
  "language_info": {
   "codemirror_mode": {
    "name": "ipython",
    "version": 3
   },
   "file_extension": ".py",
   "mimetype": "text/x-python",
   "name": "python",
   "nbconvert_exporter": "python",
   "pygments_lexer": "ipython3",
   "version": "3.9.6"
  }
 },
 "nbformat": 4,
 "nbformat_minor": 2
}
