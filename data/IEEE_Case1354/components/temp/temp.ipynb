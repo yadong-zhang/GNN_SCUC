{
 "cells": [
  {
   "cell_type": "code",
   "execution_count": 1,
   "metadata": {},
   "outputs": [],
   "source": [
    "import numpy  as np\n",
    "import pandas as pd\n",
    "import matplotlib.pyplot as plt"
   ]
  },
  {
   "cell_type": "code",
   "execution_count": 16,
   "metadata": {},
   "outputs": [],
   "source": [
    "# Read original bus index\n",
    "original_bus_index = pd.read_csv('./original_bus_index.csv', header=None, index_col=None)\n",
    "\n",
    "# Read original gen index\n",
    "original_gen_index = pd.read_csv('./original_gen_index.csv', header=None, index_col=None)\n",
    "\n",
    "# Read original branch index\n",
    "original_branch_index = pd.read_csv('./original_branch_index.csv', header=None, index_col=None)"
   ]
  },
  {
   "cell_type": "code",
   "execution_count": 28,
   "metadata": {},
   "outputs": [],
   "source": [
    "# New bus index\n",
    "new_bus_index = np.arange(1, 1355)\n",
    "\n",
    "# New gen index\n",
    "new_gen_index = new_bus_index[np.isin(original_bus_index.values.flatten(), original_gen_index.values.flatten())]\n",
    "\n",
    "new_branch_index = np.zeros((len(original_branch_index), 2))\n",
    "# New branch index\n",
    "for i in range(len(original_branch_index)):\n",
    "    new_branch_index[i, 0] = new_bus_index[np.isin(original_bus_index.values.flatten(), original_branch_index.values[i, 0])]\n",
    "    new_branch_index[i, 1] = new_bus_index[np.isin(original_bus_index.values.flatten(), original_branch_index.values[i, 1])]"
   ]
  },
  {
   "cell_type": "code",
   "execution_count": 31,
   "metadata": {},
   "outputs": [],
   "source": [
    "# Save new gen index\n",
    "pd.Series(new_gen_index).to_csv('./new_gen_index.csv', header=None, index=None)\n",
    "\n",
    "# Save new branch index\n",
    "pd.DataFrame(new_branch_index).to_csv('./new_branch_index.csv', header=None, index=None)    "
   ]
  }
 ],
 "metadata": {
  "kernelspec": {
   "display_name": "Python 3",
   "language": "python",
   "name": "python3"
  },
  "language_info": {
   "codemirror_mode": {
    "name": "ipython",
    "version": 3
   },
   "file_extension": ".py",
   "mimetype": "text/x-python",
   "name": "python",
   "nbconvert_exporter": "python",
   "pygments_lexer": "ipython3",
   "version": "3.9.6"
  }
 },
 "nbformat": 4,
 "nbformat_minor": 2
}
