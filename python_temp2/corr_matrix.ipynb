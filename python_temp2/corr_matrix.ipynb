{
 "cells": [
  {
   "cell_type": "code",
   "execution_count": 1,
   "metadata": {},
   "outputs": [],
   "source": [
    "import numpy as np\n",
    "import pandas as pd\n",
    "import scipy as sp\n",
    "import scipy.stats as stats\n",
    "import matplotlib.pyplot as plt"
   ]
  },
  {
   "cell_type": "code",
   "execution_count": 2,
   "metadata": {},
   "outputs": [
    {
     "data": {
      "text/plain": [
       "True"
      ]
     },
     "execution_count": 2,
     "metadata": {},
     "output_type": "execute_result"
    }
   ],
   "source": [
    "corr_mat = np.array([[1., 0.95, -0.87],\n",
    "                     [0.95, 1., -0.71],\n",
    "                     [-0.87, -0.71, 1.]])\n",
    "mu = np.zeros(corr_mat.shape[0])\n",
    "\n",
    "np.array_equal(corr_mat, corr_mat.T)"
   ]
  },
  {
   "cell_type": "code",
   "execution_count": 3,
   "metadata": {},
   "outputs": [
    {
     "data": {
      "text/plain": [
       "array([0.01268458, 0.29682597, 2.69048944])"
      ]
     },
     "execution_count": 3,
     "metadata": {},
     "output_type": "execute_result"
    }
   ],
   "source": [
    "eigs, _ = np.linalg.eig(corr_mat)\n",
    "np.sort(eigs)"
   ]
  },
  {
   "cell_type": "code",
   "execution_count": 4,
   "metadata": {},
   "outputs": [],
   "source": [
    "np.random.seed(10)\n",
    "rv1 = np.random.multivariate_normal(mean=mu, cov=corr_mat, size=20)\n",
    "rv2 = np.random.multivariate_normal(mean=mu, cov=corr_mat, size=20)\n",
    "rv3 = np.random.multivariate_normal(mean=mu, cov=corr_mat, size=20)\n",
    "rv4 = np.random.multivariate_normal(mean=mu, cov=corr_mat, size=20)\n",
    "rv5 = np.random.multivariate_normal(mean=mu, cov=corr_mat, size=20)\n",
    "rv6 = np.random.multivariate_normal(mean=mu, cov=corr_mat, size=20)\n",
    "\n",
    "rv = np.concatenate([rv1, rv2, rv3, rv4, rv5, rv6], axis=1)[:, :16]"
   ]
  },
  {
   "cell_type": "code",
   "execution_count": 5,
   "metadata": {},
   "outputs": [
    {
     "data": {
      "text/plain": [
       "array([[ 1.  ,  0.95, -0.91, -0.1 , -0.14, -0.  ,  0.33,  0.36, -0.35,\n",
       "        -0.3 , -0.3 ,  0.27, -0.14, -0.17,  0.07,  0.03],\n",
       "       [ 0.95,  1.  , -0.78, -0.11, -0.18,  0.  ,  0.23,  0.26, -0.28,\n",
       "        -0.43, -0.43,  0.36, -0.19, -0.23,  0.15, -0.02],\n",
       "       [-0.91, -0.78,  1.  , -0.08, -0.07,  0.12, -0.3 , -0.35,  0.31,\n",
       "         0.09,  0.08, -0.15, -0.16, -0.15,  0.19, -0.04],\n",
       "       [-0.1 , -0.11, -0.08,  1.  ,  0.95, -0.91,  0.  ,  0.01, -0.06,\n",
       "         0.13,  0.13,  0.  ,  0.39,  0.34, -0.28,  0.43],\n",
       "       [-0.14, -0.18, -0.07,  0.95,  1.  , -0.77,  0.06,  0.05, -0.15,\n",
       "         0.1 ,  0.12,  0.1 ,  0.35,  0.33, -0.22,  0.48],\n",
       "       [-0.  ,  0.  ,  0.12, -0.91, -0.77,  1.  , -0.01, -0.01,  0.06,\n",
       "        -0.13, -0.1 ,  0.07, -0.36, -0.28,  0.3 , -0.35],\n",
       "       [ 0.33,  0.23, -0.3 ,  0.  ,  0.06, -0.01,  1.  ,  0.98, -0.93,\n",
       "         0.09,  0.15,  0.04, -0.24, -0.25,  0.07,  0.09],\n",
       "       [ 0.36,  0.26, -0.35,  0.01,  0.05, -0.01,  0.98,  1.  , -0.87,\n",
       "         0.1 ,  0.19,  0.05, -0.25, -0.25,  0.06,  0.04],\n",
       "       [-0.35, -0.28,  0.31, -0.06, -0.15,  0.06, -0.93, -0.87,  1.  ,\n",
       "         0.01, -0.05, -0.16,  0.26,  0.28, -0.11, -0.15],\n",
       "       [-0.3 , -0.43,  0.09,  0.13,  0.1 , -0.13,  0.09,  0.1 ,  0.01,\n",
       "         1.  ,  0.95, -0.83,  0.4 ,  0.34, -0.45, -0.23],\n",
       "       [-0.3 , -0.43,  0.08,  0.13,  0.12, -0.1 ,  0.15,  0.19, -0.05,\n",
       "         0.95,  1.  , -0.64,  0.36,  0.28, -0.44, -0.26],\n",
       "       [ 0.27,  0.36, -0.15,  0.  ,  0.1 ,  0.07,  0.04,  0.05, -0.16,\n",
       "        -0.83, -0.64,  1.  , -0.3 , -0.3 ,  0.29,  0.2 ],\n",
       "       [-0.14, -0.19, -0.16,  0.39,  0.35, -0.36, -0.24, -0.25,  0.26,\n",
       "         0.4 ,  0.36, -0.3 ,  1.  ,  0.96, -0.9 , -0.09],\n",
       "       [-0.17, -0.23, -0.15,  0.34,  0.33, -0.28, -0.25, -0.25,  0.28,\n",
       "         0.34,  0.28, -0.3 ,  0.96,  1.  , -0.77, -0.11],\n",
       "       [ 0.07,  0.15,  0.19, -0.28, -0.22,  0.3 ,  0.07,  0.06, -0.11,\n",
       "        -0.45, -0.44,  0.29, -0.9 , -0.77,  1.  ,  0.03],\n",
       "       [ 0.03, -0.02, -0.04,  0.43,  0.48, -0.35,  0.09,  0.04, -0.15,\n",
       "        -0.23, -0.26,  0.2 , -0.09, -0.11,  0.03,  1.  ]])"
      ]
     },
     "execution_count": 5,
     "metadata": {},
     "output_type": "execute_result"
    }
   ],
   "source": [
    "new_corr_mat = np.corrcoef(rv, rowvar=False)\n",
    "np.round(new_corr_mat, 2)"
   ]
  },
  {
   "cell_type": "code",
   "execution_count": 6,
   "metadata": {},
   "outputs": [
    {
     "data": {
      "text/plain": [
       "array([6.53935884e-04, 2.82564981e-03, 4.57162234e-03, 6.01265380e-03,\n",
       "       9.70574382e-03, 6.00659862e-02, 8.12829115e-02, 1.32530169e-01,\n",
       "       2.91227877e-01, 3.72346350e-01, 6.43451686e-01, 9.77854807e-01,\n",
       "       2.28382339e+00, 2.78544481e+00, 3.59467303e+00, 4.75352938e+00])"
      ]
     },
     "execution_count": 6,
     "metadata": {},
     "output_type": "execute_result"
    }
   ],
   "source": [
    "eigs, _ = np.linalg.eig(new_corr_mat)\n",
    "np.sort(eigs)"
   ]
  },
  {
   "cell_type": "code",
   "execution_count": 7,
   "metadata": {},
   "outputs": [],
   "source": [
    "pd.DataFrame(new_corr_mat).to_csv('corr_matrix.csv', header=None, index=None)"
   ]
  },
  {
   "cell_type": "code",
   "execution_count": 14,
   "metadata": {},
   "outputs": [],
   "source": [
    "vars = 16\n",
    "\n",
    "mu = np.zeros(16)\n",
    "sigma = new_corr_mat\n",
    "\n",
    "u = np.random.uniform(0.8, 1, size=(100, 16))\n",
    "\n",
    "std_rv = stats.norm.ppf(u, loc=0, scale=1)\n",
    "\n",
    "cdf = stats.multivariate_normal.cdf(std_rv, mean=mu, cov=sigma)"
   ]
  },
  {
   "cell_type": "code",
   "execution_count": 15,
   "metadata": {},
   "outputs": [
    {
     "data": {
      "image/png": "[encoded data removed]",
      "text/plain": [
       "<Figure size 640x480 with 1 Axes>"
      ]
     },
     "metadata": {},
     "output_type": "display_data"
    }
   ],
   "source": [
    "counts, bins, _ = plt.hist(cdf)\n",
    "plt.show()\n",
    "plt.close('all')"
   ]
  },
  {
   "cell_type": "code",
   "execution_count": 16,
   "metadata": {},
   "outputs": [
    {
     "data": {
      "text/plain": [
       "(0.13932189372313333, 0.3876228716792928)"
      ]
     },
     "execution_count": 16,
     "metadata": {},
     "output_type": "execute_result"
    }
   ],
   "source": [
    "min(cdf), max(cdf)"
   ]
  },
  {
   "cell_type": "code",
   "execution_count": 28,
   "metadata": {},
   "outputs": [],
   "source": [
    "var = stats.multivariate_normal.rvs(mean=mu, cov=sigma, size=10)"
   ]
  },
  {
   "cell_type": "code",
   "execution_count": 29,
   "metadata": {},
   "outputs": [
    {
     "data": {
      "image/png": "[encoded data removed]",
      "text/plain": [
       "<Figure size 640x480 with 1 Axes>"
      ]
     },
     "metadata": {},
     "output_type": "display_data"
    }
   ],
   "source": [
    "counts, bins, _ = plt.hist(var[:, 6])"
   ]
  },
  {
   "cell_type": "code",
   "execution_count": 42,
   "metadata": {},
   "outputs": [],
   "source": [
    "x = var + 2\n",
    "var2 = stats.multivariate_normal.cdf(x=x, mean=mu, cov=sigma)"
   ]
  },
  {
   "cell_type": "code",
   "execution_count": 43,
   "metadata": {},
   "outputs": [
    {
     "data": {
      "text/plain": [
       "array([0.31915444, 0.12679304, 0.53522805, 0.43427013, 0.63471367,\n",
       "       0.27025508, 0.49027817, 0.22429663, 0.09589531, 0.46240107])"
      ]
     },
     "execution_count": 43,
     "metadata": {},
     "output_type": "execute_result"
    }
   ],
   "source": [
    "var2"
   ]
  }
 ],
 "metadata": {
  "kernelspec": {
   "display_name": "Python 3",
   "language": "python",
   "name": "python3"
  },
  "language_info": {
   "codemirror_mode": {
    "name": "ipython",
    "version": 3
   },
   "file_extension": ".py",
   "mimetype": "text/x-python",
   "name": "python",
   "nbconvert_exporter": "python",
   "pygments_lexer": "ipython3",
   "version": "3.9.6"
  },
  "orig_nbformat": 4
 },
 "nbformat": 4,
 "nbformat_minor": 2
}
